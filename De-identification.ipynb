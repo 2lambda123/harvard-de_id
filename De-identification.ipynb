{
 "metadata": {
  "name": ""
 },
 "nbformat": 3,
 "nbformat_minor": 0,
 "worksheets": [
  {
   "cells": [
    {
     "cell_type": "code",
     "collapsed": false,
     "input": [
      "%cd ../person_course/"
     ],
     "language": "python",
     "metadata": {},
     "outputs": [
      {
       "output_type": "stream",
       "stream": "stdout",
       "text": [
        "/home/jdaries/person_course\n"
       ]
      }
     ],
     "prompt_number": 1
    },
    {
     "cell_type": "heading",
     "level": 4,
     "metadata": {},
     "source": [
      "Import de-identification functions from datafly_v4.py"
     ]
    },
    {
     "cell_type": "code",
     "collapsed": false,
     "input": [
      "from datafly_v4 import *\n",
      "import numpy as np\n",
      "import pylab as P\n",
      "import pandas as pd\n",
      "from decimal import *"
     ],
     "language": "python",
     "metadata": {},
     "outputs": [],
     "prompt_number": 40
    },
    {
     "cell_type": "code",
     "collapsed": false,
     "input": [
      "def utilValues(cursor, tableName, varName):\n",
      "    \"\"\"\n",
      "    cursor: sqlite cursor object\n",
      "    tableName: string, name of sqlite table\n",
      "    varName: string, name of variable to analyze\n",
      "    takes values of an integer or float variable and returns the \n",
      "    mean, standard deviation, and entropy\n",
      "    \"\"\"\n",
      "    entQry = selUnique(cursor, tableName, varName)\n",
      "    entropy = shannonEntropy(entQry)\n",
      "    cursor.execute(\"SELECT \"+varName+\" FROM \"+tableName)\n",
      "    qry = cursor.fetchall()\n",
      "    qry = colToList(qry)\n",
      "    qry2 = textToFloat(qry)\n",
      "    if len(qry2)==0:\n",
      "        print \"No values could be converted to numbers\"\n",
      "        return\n",
      "    qryArray = np.array(qry2)\n",
      "    mean = qryArray.mean()\n",
      "    sd = qryArray.std()\n",
      "    return entropy, mean, sd"
     ],
     "language": "python",
     "metadata": {},
     "outputs": [],
     "prompt_number": 3
    },
    {
     "cell_type": "code",
     "collapsed": false,
     "input": [
      "def binAvg(cursor, tableName, nomVarName, numVarName):\n",
      "    \"\"\"\n",
      "    cursor: sqlite cursor object\n",
      "    tableName: string, name of sqlite table\n",
      "    nomVarName: string, name of variable with nominal categories\n",
      "    numVarName: string, name of corresponding variable with numeric values\n",
      "    takes a column with nominal categories and \n",
      "    \"\"\"\n",
      "    newVarName = nomVarName+\"_avg\"\n",
      "    getcontext().prec = 2\n",
      "    bins = selUnique(cursor,tableName,nomVarName)\n",
      "    avgDic = {}\n",
      "    for cat in bins:\n",
      "        cursor.execute(\"SELECT \"+numVarName+\" FROM \"+tableName+\" WHERE \"+nomVarName+\" = '\"+cat[0]+\"'\")\n",
      "        qry = cursor.fetchall()\n",
      "        qry = colToList(qry)\n",
      "        qry2 = textToFloat(qry)\n",
      "        if len(qry2)==0:\n",
      "            print \"No values could be converted to numbers: \"+str(cat[0])\n",
      "            continue\n",
      "        qryArray = np.array(qry2)\n",
      "        mean = qryArray.mean()\n",
      "        mean = Decimal(mean)\n",
      "        mean = round(mean,2)\n",
      "        avgDic[cat[0]] = str(mean)\n",
      "    try:\n",
      "        addColumn(cursor,tableName,newVarName)\n",
      "        varIndex(cursor,tableName,newVarName)\n",
      "    except:\n",
      "        print \"column \"+newVarName+\" already exists, overwriting...\"\n",
      "        cursor.execute(\"UPDATE \"+tableName+\" SET \"+newVarName+\" = 'null'\")\n",
      "    dataUpdate(cursor,tableName,nomVarName,avgDic,True,newVarName)\n",
      "        "
     ],
     "language": "python",
     "metadata": {},
     "outputs": [],
     "prompt_number": 62
    },
    {
     "cell_type": "code",
     "collapsed": false,
     "input": [
      "def utilMatrix(cursor, tableName, varList):\n",
      "    \"\"\"\n",
      "    cursor: sqlite cursor object\n",
      "    tableName: string, name of sqlite table\n",
      "    varList: list of utility variables, in format indigenous\n",
      "    to this program, which is the format that results\n",
      "    from the sqlite \"Pragma table_info()\" command.\n",
      "    This function creates a Pandas dataframe/matrix of the entropy,\n",
      "    mean, and standard deviation of the utility variables, \n",
      "    index is the variable name, and columns are the statistics\n",
      "    \"\"\"\n",
      "    varNames = []\n",
      "    for var in varList:\n",
      "        varNames.append(var[1])\n",
      "    entropies = np.array([])\n",
      "    sds = np.array([])\n",
      "    means = np.array([])\n",
      "    uMatrix = pd.DataFrame(columns = [\"Entropy\",\"Mean\",\"SD\"], index = varNames)\n",
      "    for var in varNames:\n",
      "        ent, mean, sd = utilValues(cursor, tableName, var)\n",
      "        uMatrix.ix[var] = [ent, mean, sd]\n",
      "    return uMatrix\n",
      "    "
     ],
     "language": "python",
     "metadata": {},
     "outputs": [],
     "prompt_number": 4
    },
    {
     "cell_type": "code",
     "collapsed": false,
     "input": [
      "def textToFloat(txtList):\n",
      "    \"\"\"\n",
      "    txtList: list of text values\n",
      "    returns a list of float values, \n",
      "    skips values that cannot be converted\n",
      "    \"\"\"\n",
      "    numList = []\n",
      "    for i in txtList:\n",
      "        try: numList.append(float(i))\n",
      "        except: pass\n",
      "    return numList"
     ],
     "language": "python",
     "metadata": {},
     "outputs": [],
     "prompt_number": 5
    },
    {
     "cell_type": "code",
     "collapsed": false,
     "input": [
      "def lDiversity(cursor, tableName, kkeyVar, senVar):\n",
      "    qry = selUnique(cursor, tableName, kkeyVar)\n",
      "    for i in qry:\n",
      "        cursor.execute('SELECT '+senVar+' FROM '+tableName+' WHERE '+kkeyVar+' = \"'+i[0]+'\" GROUP BY '+senVar)\n",
      "        qry2 = cursor.fetchall()\n",
      "        if len(qry2) == 1:\n",
      "            cursor.execute('UPDATE '+tableName+' SET '+senVar+' = \" \" WHERE '+kkeyVar+' = \"'+i[0]+'\"')"
     ],
     "language": "python",
     "metadata": {},
     "outputs": [],
     "prompt_number": 6
    },
    {
     "cell_type": "code",
     "collapsed": false,
     "input": [
      "def optimumDrop2(cursor, tableName, userVar, k, nonUniqueList, nComb=1):\n",
      "    \"\"\"                                                                                                                                                                                          \n",
      "    cursor: sqlite3 cursor object                                                                                                                                                                \n",
      "    tableName: string, name of main table                                                                                                                                                        \n",
      "    userVar: string, name of userid var                                                                                                                                                          \n",
      "    k: int, minimum cell size                                                                                                                                                                    \n",
      "    nonUniqueList: list of course_combo values already cleared for k-anonymity                                                                                                                   \n",
      "    nComb: int, number of courses to try to drop, default 1                                                                                                                                      \n",
      "    iteratively tries 'dropping' one course for all of the records                                                                                                                               \n",
      "    that are flagged as having a unique combo of courses                                                                                                                                         \n",
      "    then measures the entropy of the resulting group, and                                                                                                                                        \n",
      "    returns the position in courseList of the course to drop, along with the                                                                                                                     \n",
      "    course_combo values that will benefit from the drop                                                                                                                                          \n",
      "    \"\"\"\n",
      "    qry = courseUserQry(cursor, tableName, userVar, 'True')\n",
      "    if len(qry)==0:\n",
      "        return qry\n",
      "    posLen = len(qry[0][0]) #assumes first variable in each tuple is the course combo, finds num of positions to change                                                                          \n",
      "    preList = qry[:]\n",
      "    preCombos = []\n",
      "    for i in preList:\n",
      "        preCombos.append(i[0])\n",
      "    preEntropy = shannonEntropy(preList)\n",
      "    postEntList = []\n",
      "    preCount = 0\n",
      "    for n in qry:\n",
      "        preCount += n[1]\n",
      "    print preCount\n",
      "    iterTemp = itertools.combinations(range(posLen),nComb)\n",
      "    dropCombos = []\n",
      "    while True:\n",
      "        try: dropCombos.append(iterTemp.next())\n",
      "        except: break\n",
      "    for i in dropCombos:\n",
      "        #print \"dropCombo:\"\n",
      "        #print i\n",
      "        postList = []\n",
      "        tmpList = qry[:]\n",
      "        for j in tmpList:\n",
      "            newString = \"\"\n",
      "            for l in range(posLen):\n",
      "                if l in i:\n",
      "                    newString+=\"0\"\n",
      "                else:\n",
      "                    newString+=j[0][l]\n",
      "            postList.append((newString,j[1]))\n",
      "        try:\n",
      "            cursor.execute(\"DROP TABLE coursedrop\")\n",
      "            cursor.execute(\"CREATE TABLE coursedrop (course_combo text, Count integer)\")\n",
      "        except:\n",
      "            cursor.execute(\"CREATE TABLE coursedrop (course_combo text, Count integer)\")\n",
      "        cursor.executemany(\"INSERT INTO coursedrop VALUES (?,?)\",postList)\n",
      "        cursor.execute(\"SELECT course_combo, SUM(Count) FROM coursedrop GROUP BY course_combo\")\n",
      "        postQry = cursor.fetchall()\n",
      "        postEntropy = shannonEntropy(postQry)\n",
      "        postCount = 0\n",
      "        for item in postQry:\n",
      "            postCount += item[1]\n",
      "        changeVals = []\n",
      "        for k in range(len(i)):\n",
      "            oldSpots = []\n",
      "            iterTemp = itertools.combinations(i,k+1)\n",
      "            while True:\n",
      "                try: oldSpots.append(iterTemp.next())\n",
      "                except: break\n",
      "            for l in oldSpots:\n",
      "                for m in postQry:\n",
      "                    mList = list(m[0])\n",
      "                    for n in l:\n",
      "                        mList[n] = '1'\n",
      "                    oldString = ''\n",
      "                    for p in mList:\n",
      "                        oldString+=p\n",
      "                    if m[1]>=k and oldString in preCombos:\n",
      "                        changeVals.append(oldString)\n",
      "                    elif (m[0] in nonUniqueList) and oldString in preCombos:\n",
      "                        changeVals.append(oldString)\n",
      "        #print \"Length of ChangeVals: \"+str(len(changeVals))\n",
      "        if len(changeVals)>0:\n",
      "            postEntList.append((i,preEntropy-postEntropy,changeVals))\n",
      "    if len(postEntList) == 0:\n",
      "        return []\n",
      "    first = True\n",
      "    low = (99,99,[])\n",
      "    for n in postEntList:\n",
      "        if n[1]<low[1] and n[1] > 0.0:\n",
      "            low = n\n",
      "    return low"
     ],
     "language": "python",
     "metadata": {},
     "outputs": [],
     "prompt_number": 7
    },
    {
     "cell_type": "code",
     "collapsed": false,
     "input": [
      "def userKanon2(cursor, tableName, userVar, courseVar, k):\n",
      "    \"\"\"                                                                                                                                                                                          \n",
      "    cursor: sqlite cursor object                                                                                                                                                                 \n",
      "    tableName: string, name of table                                                                                                                                                             \n",
      "    userVar: string, name of userid variable                                                                                                                                                     \n",
      "    courseVar: string, name of course variable                                                                                                                                                   \n",
      "    k: minimum group size                                                                                                                                                                        \n",
      "    creates a unique row record that is combo of                                                                                                                                                 \n",
      "    courseid and userid, and then creates another variable                                                                                                                                       \n",
      "    that says which courses someone has taken                                                                                                                                                    \n",
      "    then checks for unique count of courses taken                                                                                                                                                \n",
      "    and unique combinations of courses                                                                                                                                                           \n",
      "    \"\"\"\n",
      "    courseList = courseComboUpdate(cursor,tableName,userVar,courseVar)\n",
      "    value, uniqueList, nonUniqueList = uniqUserCheck(cursor,tableName,userVar,k)\n",
      "    uniqUserFlag(cursor, tableName, uniqueList)\n",
      "    dropNum = 1\n",
      "    courseDrops = {}\n",
      "    while value != 0.0 and dropNum != 16:  \n",
      "        print \"DropNum: \"+str(dropNum)\n",
      "        print \"non-anon value: \"+str(value)\n",
      "        courseTup = optimumDrop2(cursor, tableName, userVar, k, nonUniqueList,dropNum)\n",
      "        #print \"courseTup returned from OptimumDrop:\"\n",
      "        if len(courseTup) == 0 or len(courseTup[2])==0:\n",
      "            dropNum +=1 \n",
      "            print \"no more changes can be made, trying \"+str(dropNum)+\" courses at a time\"   \n",
      "            return courseDrops\n",
      "        #print courseTup[:2]  \n",
      "        courseNums = courseTup[0]\n",
      "        #print \"courseNums:\"\n",
      "        #print courseNums\n",
      "        changeVals = courseTup[2]\n",
      "        print \"length of changeVals\"\n",
      "        print len(changeVals)\n",
      "        for i in courseNums:\n",
      "            courseName = courseList[i]\n",
      "            print \"dropping courseName:\"\n",
      "            print courseName\n",
      "            courseDrops = courseDropper2(cursor, tableName, courseVar, courseName, changeVals, courseDrops)\n",
      "        courseList = courseComboUpdate(cursor,tableName,userVar,courseVar)\n",
      "        value, uniqueList, nonUniqueList = uniqUserCheck(cursor,tableName,userVar,k)\n",
      "        uniqUserFlag(cursor, tableName, uniqueList)\n",
      "    return courseDrops"
     ],
     "language": "python",
     "metadata": {},
     "outputs": [],
     "prompt_number": 8
    },
    {
     "cell_type": "code",
     "collapsed": false,
     "input": [
      "def courseDropper2(cursor, tableName, courseVar, courseName, changeVals, courseDict={}):\n",
      "    \"\"\"                                                                                                                                                                                          \n",
      "    courseName: string, name of course to be dropped                                                                                                                                             \n",
      "    changeVals: list of strings, values of course_combo to drop                                                                                                                                  \n",
      "    courseDict: dictionary of courses and running tally of rows dropped                                                                                                                          \n",
      "    drops course record where course equals courseName                                                                                                                                           \n",
      "    AND uniqUserFlag = \"True\"                                                                                                                                                                    \n",
      "    \"\"\"\n",
      "    delCount = 0\n",
      "    #print \"len of changeVals: \"+str(len(changeVals))\n",
      "    for val in changeVals:\n",
      "        cursor.execute(\"SELECT SUM(Count) FROM \"+tableName+\" WHERE (\"+courseVar+\" = '\"+courseName+\"' AND uniqUserFlag = 'True' AND course_combo = '\"+val+\"')\")\n",
      "        qry = cursor.fetchall()\n",
      "        #print \"changeVal qry length:\"+str(len(qry))\n",
      "        if (qry[0][0]): delCount += qry[0][0]\n",
      "    print \"delCount: \"+str(delCount)\n",
      "    if delCount == 0:\n",
      "        return courseDict\n",
      "    if courseName in courseDict.keys():\n",
      "        courseDict[courseName] += delCount\n",
      "    else:\n",
      "        courseDict[courseName] = delCount\n",
      "    #confirm = raw_input(\"Confirm you want to delete \"+str(delCount)+\" records associated with \"+courseName+\" (y/n): \")\n",
      "    #if confirm == 'n':\n",
      "    #    return\n",
      "    #elif confirm == 'y':\n",
      "    for val in changeVals:\n",
      "        cursor.execute(\"DELETE FROM \"+tableName+\" WHERE (\"+courseVar+\" = '\"+courseName+\"' AND uniqUserFlag = 'True' AND course_combo = '\"+val+\"')\")\n",
      "    #else:\n",
      "    #    print \"invalid choice, exiting function\"\n",
      "    return courseDict"
     ],
     "language": "python",
     "metadata": {},
     "outputs": [],
     "prompt_number": 9
    },
    {
     "cell_type": "code",
     "collapsed": false,
     "input": [
      "def kAnonIter(cursor, tableName, k, outFile):\n",
      "    \"\"\"                                                                                                                                                                                          \n",
      "    cursor: sqlite cursor object                                                                                                                                                                 \n",
      "    tableName: string, name of table                                                                                                                                                             \n",
      "    k: minimum group size                                                                                                                                                                        \n",
      "    wrapper function, gets list of variables from user input,                                                                                                                                    \n",
      "    updates kkey, checks for k-anonymity                                                                                                                                                         \n",
      "    \"\"\"\n",
      "    coreVarList = qiPicker(cursor, tableName)\n",
      "    optVarList = qiPicker(cursor, tableName)\n",
      "    iterVarList = coreVarList\n",
      "    addList = []\n",
      "    kkeyUpdate(cursor, tableName, iterVarList)\n",
      "    varIndex = 0\n",
      "    a,b = isTableKanonymous(cursor, tableName,k)\n",
      "    results = [('core',b)]\n",
      "    for var in optVarList:\n",
      "        iterVarList.append(optVarList[varIndex])\n",
      "        print iterVarList\n",
      "        addList.append(optVarList[varIndex])\n",
      "        print addList\n",
      "        results.append((addList,))\n",
      "        kkeyUpdate(cursor, tableName, iterVarList)\n",
      "        a,b = isTableKanonymous(cursor,tableName,k)\n",
      "        varIndex += 1\n",
      "        results[varIndex] += (b,)\n",
      "    outFile.write(str(results))\n",
      "    return results"
     ],
     "language": "python",
     "metadata": {},
     "outputs": [],
     "prompt_number": 10
    },
    {
     "cell_type": "heading",
     "level": 4,
     "metadata": {},
     "source": [
      "Name the file containing the data,\n",
      "name the database,\n",
      "and name commonly-used database variables.\n",
      "NOTE: make updates here if file specification changes"
     ]
    },
    {
     "cell_type": "code",
     "collapsed": false,
     "input": [
      "file = \"person_course_harvardxdb+mitxdb_2014_01_17a.csv\"\n",
      "table = \"source\"\n",
      "userVar = \"user_id\"\n",
      "courseVar = \"course_id\"\n",
      "countryVar = \"final_cc\"\n",
      "k=5"
     ],
     "language": "python",
     "metadata": {},
     "outputs": [],
     "prompt_number": 11
    },
    {
     "cell_type": "code",
     "collapsed": false,
     "input": [
      "#the file as released\n",
      "db = 'kaPC_1-17-4-17-14-3.db'\n",
      "c = dbOpen(db)"
     ],
     "language": "python",
     "metadata": {},
     "outputs": [],
     "prompt_number": 12
    },
    {
     "cell_type": "code",
     "collapsed": false,
     "input": [
      "#no changes to data\n",
      "db = 'kaPC_1-17-4-17-14-orig.db'\n",
      "c = dbOpen(db)"
     ],
     "language": "python",
     "metadata": {},
     "outputs": [],
     "prompt_number": 12
    },
    {
     "cell_type": "code",
     "collapsed": false,
     "input": [
      "#use binning for the article\n",
      "db = 'kaPC_1-17-4-17-14-alt1.db'\n",
      "c = dbOpen(db)"
     ],
     "language": "python",
     "metadata": {},
     "outputs": [],
     "prompt_number": 12
    },
    {
     "cell_type": "heading",
     "level": 4,
     "metadata": {},
     "source": [
      "Load data into SQLite database"
     ]
    },
    {
     "cell_type": "code",
     "collapsed": false,
     "input": [
      "sourceLoad(c,file,table)"
     ],
     "language": "python",
     "metadata": {},
     "outputs": [],
     "prompt_number": 14
    },
    {
     "cell_type": "heading",
     "level": 4,
     "metadata": {},
     "source": [
      "Load data into another table to make comparisons to the original data"
     ]
    },
    {
     "cell_type": "code",
     "collapsed": false,
     "input": [
      "sourceLoad(c,file,\"original\")"
     ],
     "language": "python",
     "metadata": {},
     "outputs": [],
     "prompt_number": 15
    },
    {
     "cell_type": "code",
     "collapsed": false,
     "input": [
      "dateSplit(c,table,\"start_time\")\n",
      "dateSplit(c,table,\"last_event\")"
     ],
     "language": "python",
     "metadata": {},
     "outputs": [
      {
       "output_type": "stream",
       "stream": "stdout",
       "text": [
        "column start_time_DI already exists, overwriting...\n",
        "column last_event_DI already exists, overwriting..."
       ]
      },
      {
       "output_type": "stream",
       "stream": "stdout",
       "text": [
        "\n"
       ]
      }
     ],
     "prompt_number": 16
    },
    {
     "cell_type": "code",
     "collapsed": false,
     "input": [
      "c.execute(\"SELECT name FROM sqlite_master WHERE type='table';\")\n",
      "c.fetchall()"
     ],
     "language": "python",
     "metadata": {},
     "outputs": [
      {
       "metadata": {},
       "output_type": "pyout",
       "prompt_number": 17,
       "text": [
        "[(u'source',), (u'original',)]"
       ]
      }
     ],
     "prompt_number": 17
    },
    {
     "cell_type": "heading",
     "level": 4,
     "metadata": {},
     "source": [
      "Load column names into a variable called varList"
     ]
    },
    {
     "cell_type": "code",
     "collapsed": false,
     "input": [
      "c.execute(\"Pragma table_info(\"+table+\")\")\n",
      "varList = c.fetchall()\n",
      "varList"
     ],
     "language": "python",
     "metadata": {},
     "outputs": [
      {
       "metadata": {},
       "output_type": "pyout",
       "prompt_number": 13,
       "text": [
        "[(0, u'course_id', u'text', 0, None, 0),\n",
        " (1, u'user_id', u'text', 0, None, 0),\n",
        " (2, u'username', u'text', 0, None, 0),\n",
        " (3, u'registered', u'text', 0, None, 0),\n",
        " (4, u'viewed', u'text', 0, None, 0),\n",
        " (5, u'explored', u'text', 0, None, 0),\n",
        " (6, u'certified', u'text', 0, None, 0),\n",
        " (7, u'ip', u'text', 0, None, 0),\n",
        " (8, u'cc_by_ip', u'text', 0, None, 0),\n",
        " (9, u'cc_address', u'text', 0, None, 0),\n",
        " (10, u'LoE', u'text', 0, None, 0),\n",
        " (11, u'YoB', u'text', 0, None, 0),\n",
        " (12, u'gender', u'text', 0, None, 0),\n",
        " (13, u'grade', u'text', 0, None, 0),\n",
        " (14, u'start_time', u'text', 0, None, 0),\n",
        " (15, u'last_event', u'text', 0, None, 0),\n",
        " (16, u'nevents', u'text', 0, None, 0),\n",
        " (17, u'modal_ip', u'text', 0, None, 0),\n",
        " (18, u'modal_ip_cc', u'text', 0, None, 0),\n",
        " (19, u'final_cc', u'text', 0, None, 0),\n",
        " (20, u'final_cc_source', u'text', 0, None, 0),\n",
        " (21, u'ndays_act', u'text', 0, None, 0),\n",
        " (22, u'nplay_video', u'text', 0, None, 0),\n",
        " (23, u'nchapters', u'text', 0, None, 0),\n",
        " (24, u'nforum_posts', u'text', 0, None, 0),\n",
        " (25, u'roles', u'text', 0, None, 0),\n",
        " (26, u'kkey', u'text', 0, None, 0),\n",
        " (27, u'Count', u'integer', 0, None, 0),\n",
        " (28, u'start_time_DI', u'text', 0, None, 0),\n",
        " (29, u'last_event_DI', u'text', 0, None, 0),\n",
        " (30, u'final_cc_cname', u'text', 0, None, 0),\n",
        " (31, u'continent', u'text', 0, None, 0),\n",
        " (32, u'userid_DI', u'text', 0, None, 0),\n",
        " (33, u'entropy', u'text', 0, None, 0),\n",
        " (34, u'course_combo', u'text', 0, None, 0),\n",
        " (35, u'uniqUserFlag', u'text', 0, None, 0),\n",
        " (36, u'final_cc_cname_DI', u'text', 0, None, 0),\n",
        " (37, u'gender_DI', u'text', 0, None, 0),\n",
        " (38, u'course_id_NF', u'text', 0, None, 0),\n",
        " (39, u'LoE_NF', u'text', 0, None, 0),\n",
        " (40, u'YoB_NF', u'text', 0, None, 0),\n",
        " (41, u'gender_DI_NF', u'text', 0, None, 0),\n",
        " (42, u'final_cc_cname_DI_NF', u'text', 0, None, 0),\n",
        " (43, u'nforum_posts_NF', u'text', 0, None, 0),\n",
        " (44, u'nullSum', u'text', 0, None, 0),\n",
        " (45, u'kCheckFlag', u'text', 0, None, 0),\n",
        " (46, u'nullkkey', u'text', 0, None, 0),\n",
        " (47, u'LoE_DI', u'text', 0, None, 0),\n",
        " (48, u'nforum_posts_DI', u'text', 0, None, 0)]"
       ]
      }
     ],
     "prompt_number": 13
    },
    {
     "cell_type": "heading",
     "level": 4,
     "metadata": {},
     "source": [
      "Add indices"
     ]
    },
    {
     "cell_type": "code",
     "collapsed": false,
     "input": [
      "varIndex(c,table,courseVar)\n",
      "varIndex(c,table,userVar)"
     ],
     "language": "python",
     "metadata": {},
     "outputs": [],
     "prompt_number": 19
    },
    {
     "cell_type": "code",
     "collapsed": false,
     "input": [
      "c.execute(\"CREATE INDEX \"+courseVar+\"_idx2 ON original (\"+courseVar+\")\")\n",
      "c.execute(\"CREATE INDEX \"+userVar+\"_idx2 ON original (\"+userVar+\")\")"
     ],
     "language": "python",
     "metadata": {},
     "outputs": [
      {
       "metadata": {},
       "output_type": "pyout",
       "prompt_number": 20,
       "text": [
        "<sqlite3.Cursor at 0x6f96880>"
       ]
      }
     ],
     "prompt_number": 20
    },
    {
     "cell_type": "heading",
     "level": 4,
     "metadata": {},
     "source": [
      "Get initial count of records loaded"
     ]
    },
    {
     "cell_type": "code",
     "collapsed": false,
     "input": [
      "c.execute(\"SELECT SUM(Count) FROM \"+table)\n",
      "c.fetchall()"
     ],
     "language": "python",
     "metadata": {},
     "outputs": [
      {
       "metadata": {},
       "output_type": "pyout",
       "prompt_number": 21,
       "text": [
        "[(841687,)]"
       ]
      }
     ],
     "prompt_number": 21
    },
    {
     "cell_type": "heading",
     "level": 4,
     "metadata": {},
     "source": [
      "Map country codes to country names, load table of country name to continent mappings"
     ]
    },
    {
     "cell_type": "code",
     "collapsed": false,
     "input": [
      "countryNamer(c,table,countryVar)\n",
      "contImport(c, table, \"country_continent\", countryVar+\"_cname\")"
     ],
     "language": "python",
     "metadata": {},
     "outputs": [
      {
       "output_type": "stream",
       "stream": "stdout",
       "text": [
        "Err '' on: cc=\n",
        "Err 'A1' on: cc=A1\n",
        "Err 'A2' on: cc=A2\n",
        "Err 'AP' on: cc=AP\n",
        "Err 'EU' on: cc=EU\n"
       ]
      }
     ],
     "prompt_number": 22
    },
    {
     "cell_type": "heading",
     "level": 4,
     "metadata": {},
     "source": [
      "Delete staff"
     ]
    },
    {
     "cell_type": "code",
     "collapsed": false,
     "input": [
      "c.execute(\"DELETE FROM \"+table+\" WHERE (roles = 'instructor' or roles = 'staff')\")"
     ],
     "language": "python",
     "metadata": {},
     "outputs": [
      {
       "metadata": {},
       "output_type": "pyout",
       "prompt_number": 23,
       "text": [
        "<sqlite3.Cursor at 0x6f96880>"
       ]
      }
     ],
     "prompt_number": 23
    },
    {
     "cell_type": "code",
     "collapsed": false,
     "input": [
      "c.execute(\"DELETE FROM original WHERE (roles = 'instructor' or roles = 'staff')\")"
     ],
     "language": "python",
     "metadata": {},
     "outputs": [
      {
       "metadata": {},
       "output_type": "pyout",
       "prompt_number": 24,
       "text": [
        "<sqlite3.Cursor at 0x6f96880>"
       ]
      }
     ],
     "prompt_number": 24
    },
    {
     "cell_type": "heading",
     "level": 4,
     "metadata": {},
     "source": [
      "Generate anonymous userIDs"
     ]
    },
    {
     "cell_type": "code",
     "collapsed": false,
     "input": [
      "idGen(c,table,userVar,\"MHxPC13\")"
     ],
     "language": "python",
     "metadata": {},
     "outputs": [
      {
       "output_type": "stream",
       "stream": "stdout",
       "text": [
        "ids: 597675\n"
       ]
      }
     ],
     "prompt_number": 25
    },
    {
     "cell_type": "heading",
     "level": 4,
     "metadata": {},
     "source": [
      "Get initial entropy reading"
     ]
    },
    {
     "cell_type": "code",
     "collapsed": false,
     "input": [
      "addColumn(c,table,'entropy')\n",
      "varIndex(c,table,'entropy')\n",
      "kkeyUpdate(c, table,varList,'entropy')"
     ],
     "language": "python",
     "metadata": {},
     "outputs": [],
     "prompt_number": 26
    },
    {
     "cell_type": "code",
     "collapsed": false,
     "input": [
      "qry = selUnique(c,table,'entropy')"
     ],
     "language": "python",
     "metadata": {},
     "outputs": [],
     "prompt_number": 27
    },
    {
     "cell_type": "code",
     "collapsed": false,
     "input": [
      "beginEntropy = shannonEntropy(qry)\n",
      "beginEntropy"
     ],
     "language": "python",
     "metadata": {},
     "outputs": [
      {
       "metadata": {},
       "output_type": "pyout",
       "prompt_number": 28,
       "text": [
        "19.68276489348915"
       ]
      }
     ],
     "prompt_number": 28
    },
    {
     "cell_type": "heading",
     "level": 4,
     "metadata": {},
     "source": [
      "Create utility Matrix (both for unmodified dataset and current dataset)"
     ]
    },
    {
     "cell_type": "code",
     "collapsed": false,
     "input": [
      "utilVars = varList[4:7]+[varList[13]]+[varList[16]]+varList[21:25]\n",
      "utilVars"
     ],
     "language": "python",
     "metadata": {},
     "outputs": [
      {
       "metadata": {},
       "output_type": "pyout",
       "prompt_number": 14,
       "text": [
        "[(4, u'viewed', u'text', 0, None, 0),\n",
        " (5, u'explored', u'text', 0, None, 0),\n",
        " (6, u'certified', u'text', 0, None, 0),\n",
        " (13, u'grade', u'text', 0, None, 0),\n",
        " (16, u'nevents', u'text', 0, None, 0),\n",
        " (21, u'ndays_act', u'text', 0, None, 0),\n",
        " (22, u'nplay_video', u'text', 0, None, 0),\n",
        " (23, u'nchapters', u'text', 0, None, 0),\n",
        " (24, u'nforum_posts', u'text', 0, None, 0)]"
       ]
      }
     ],
     "prompt_number": 14
    },
    {
     "cell_type": "code",
     "collapsed": false,
     "input": [
      "preUmatrix = utilMatrix(c,\"original\",utilVars)"
     ],
     "language": "python",
     "metadata": {},
     "outputs": [],
     "prompt_number": 16
    },
    {
     "cell_type": "code",
     "collapsed": false,
     "input": [
      "preUmatrix"
     ],
     "language": "python",
     "metadata": {},
     "outputs": [
      {
       "html": [
        "<div style=\"max-height:1000px;max-width:1500px;overflow:auto;\">\n",
        "<table border=\"1\" class=\"dataframe\">\n",
        "  <thead>\n",
        "    <tr style=\"text-align: right;\">\n",
        "      <th></th>\n",
        "      <th>Entropy</th>\n",
        "      <th>Mean</th>\n",
        "      <th>SD</th>\n",
        "    </tr>\n",
        "  </thead>\n",
        "  <tbody>\n",
        "    <tr>\n",
        "      <th>viewed</th>\n",
        "      <td> 0.9322491</td>\n",
        "      <td>  0.6520222</td>\n",
        "      <td> 0.4763289</td>\n",
        "    </tr>\n",
        "    <tr>\n",
        "      <th>explored</th>\n",
        "      <td> 0.4458142</td>\n",
        "      <td> 0.09282029</td>\n",
        "      <td> 0.2901804</td>\n",
        "    </tr>\n",
        "    <tr>\n",
        "      <th>certified</th>\n",
        "      <td>   0.29198</td>\n",
        "      <td> 0.05132047</td>\n",
        "      <td> 0.2206506</td>\n",
        "    </tr>\n",
        "    <tr>\n",
        "      <th>grade</th>\n",
        "      <td>  2.047964</td>\n",
        "      <td>  0.0583009</td>\n",
        "      <td> 0.1979123</td>\n",
        "    </tr>\n",
        "    <tr>\n",
        "      <th>nevents</th>\n",
        "      <td>   7.13819</td>\n",
        "      <td>    775.612</td>\n",
        "      <td>  2398.989</td>\n",
        "    </tr>\n",
        "    <tr>\n",
        "      <th>ndays_act</th>\n",
        "      <td>  3.617681</td>\n",
        "      <td>   8.236944</td>\n",
        "      <td>  16.77802</td>\n",
        "    </tr>\n",
        "    <tr>\n",
        "      <th>nplay_video</th>\n",
        "      <td>  3.482532</td>\n",
        "      <td>   196.8815</td>\n",
        "      <td>  717.7677</td>\n",
        "    </tr>\n",
        "    <tr>\n",
        "      <th>nchapters</th>\n",
        "      <td>  2.960211</td>\n",
        "      <td>   4.500768</td>\n",
        "      <td>  5.648368</td>\n",
        "    </tr>\n",
        "    <tr>\n",
        "      <th>nforum_posts</th>\n",
        "      <td> 0.6800716</td>\n",
        "      <td>  0.5621618</td>\n",
        "      <td>  10.13286</td>\n",
        "    </tr>\n",
        "  </tbody>\n",
        "</table>\n",
        "<p>9 rows \u00d7 3 columns</p>\n",
        "</div>"
       ],
       "metadata": {},
       "output_type": "pyout",
       "prompt_number": 17,
       "text": [
        "                Entropy        Mean         SD\n",
        "viewed        0.9322491   0.6520222  0.4763289\n",
        "explored      0.4458142  0.09282029  0.2901804\n",
        "certified       0.29198  0.05132047  0.2206506\n",
        "grade          2.047964   0.0583009  0.1979123\n",
        "nevents         7.13819     775.612   2398.989\n",
        "ndays_act      3.617681    8.236944   16.77802\n",
        "nplay_video    3.482532    196.8815   717.7677\n",
        "nchapters      2.960211    4.500768   5.648368\n",
        "nforum_posts  0.6800716   0.5621618   10.13286\n",
        "\n",
        "[9 rows x 3 columns]"
       ]
      }
     ],
     "prompt_number": 17
    },
    {
     "cell_type": "code",
     "collapsed": false,
     "input": [
      "uMatrix = utilMatrix(c,table,utilVars)"
     ],
     "language": "python",
     "metadata": {},
     "outputs": [],
     "prompt_number": 18
    },
    {
     "cell_type": "code",
     "collapsed": false,
     "input": [
      "uMatrix"
     ],
     "language": "python",
     "metadata": {},
     "outputs": [
      {
       "html": [
        "<div style=\"max-height:1000px;max-width:1500px;overflow:auto;\">\n",
        "<table border=\"1\" class=\"dataframe\">\n",
        "  <thead>\n",
        "    <tr style=\"text-align: right;\">\n",
        "      <th></th>\n",
        "      <th>Entropy</th>\n",
        "      <th>Mean</th>\n",
        "      <th>SD</th>\n",
        "    </tr>\n",
        "  </thead>\n",
        "  <tbody>\n",
        "    <tr>\n",
        "      <th>viewed</th>\n",
        "      <td> 0.9330311</td>\n",
        "      <td>  0.6511563</td>\n",
        "      <td> 0.4766044</td>\n",
        "    </tr>\n",
        "    <tr>\n",
        "      <th>explored</th>\n",
        "      <td>  0.442119</td>\n",
        "      <td> 0.09170005</td>\n",
        "      <td> 0.2886021</td>\n",
        "    </tr>\n",
        "    <tr>\n",
        "      <th>certified</th>\n",
        "      <td> 0.2894208</td>\n",
        "      <td> 0.05071364</td>\n",
        "      <td> 0.2194123</td>\n",
        "    </tr>\n",
        "    <tr>\n",
        "      <th>grade</th>\n",
        "      <td>  2.038599</td>\n",
        "      <td> 0.05759356</td>\n",
        "      <td>  0.196651</td>\n",
        "    </tr>\n",
        "    <tr>\n",
        "      <th>nevents</th>\n",
        "      <td>  7.110723</td>\n",
        "      <td>   764.8176</td>\n",
        "      <td>   2375.25</td>\n",
        "    </tr>\n",
        "    <tr>\n",
        "      <th>ndays_act</th>\n",
        "      <td>  3.600409</td>\n",
        "      <td>   8.145082</td>\n",
        "      <td>  16.62564</td>\n",
        "    </tr>\n",
        "    <tr>\n",
        "      <th>nplay_video</th>\n",
        "      <td>   3.45325</td>\n",
        "      <td>   194.9919</td>\n",
        "      <td>  716.6227</td>\n",
        "    </tr>\n",
        "    <tr>\n",
        "      <th>nchapters</th>\n",
        "      <td>  2.952863</td>\n",
        "      <td>   4.479929</td>\n",
        "      <td>  5.641669</td>\n",
        "    </tr>\n",
        "    <tr>\n",
        "      <th>nforum_posts</th>\n",
        "      <td> 0.6774569</td>\n",
        "      <td>   0.554241</td>\n",
        "      <td>  10.02403</td>\n",
        "    </tr>\n",
        "  </tbody>\n",
        "</table>\n",
        "<p>9 rows \u00d7 3 columns</p>\n",
        "</div>"
       ],
       "metadata": {},
       "output_type": "pyout",
       "prompt_number": 19,
       "text": [
        "                Entropy        Mean         SD\n",
        "viewed        0.9330311   0.6511563  0.4766044\n",
        "explored       0.442119  0.09170005  0.2886021\n",
        "certified     0.2894208  0.05071364  0.2194123\n",
        "grade          2.038599  0.05759356   0.196651\n",
        "nevents        7.110723    764.8176    2375.25\n",
        "ndays_act      3.600409    8.145082   16.62564\n",
        "nplay_video     3.45325    194.9919   716.6227\n",
        "nchapters      2.952863    4.479929   5.641669\n",
        "nforum_posts  0.6774569    0.554241   10.02403\n",
        "\n",
        "[9 rows x 3 columns]"
       ]
      }
     ],
     "prompt_number": 19
    },
    {
     "cell_type": "code",
     "collapsed": false,
     "input": [
      "uMatrix - preUmatrix\n",
      "#removed rows for user k-anonymity"
     ],
     "language": "python",
     "metadata": {},
     "outputs": [
      {
       "html": [
        "<div style=\"max-height:1000px;max-width:1500px;overflow:auto;\">\n",
        "<table border=\"1\" class=\"dataframe\">\n",
        "  <thead>\n",
        "    <tr style=\"text-align: right;\">\n",
        "      <th></th>\n",
        "      <th>Entropy</th>\n",
        "      <th>Mean</th>\n",
        "      <th>SD</th>\n",
        "    </tr>\n",
        "  </thead>\n",
        "  <tbody>\n",
        "    <tr>\n",
        "      <th>viewed</th>\n",
        "      <td> 0.0007820853</td>\n",
        "      <td>-0.0008659297</td>\n",
        "      <td> 0.0002754981</td>\n",
        "    </tr>\n",
        "    <tr>\n",
        "      <th>explored</th>\n",
        "      <td> -0.003695128</td>\n",
        "      <td> -0.001120242</td>\n",
        "      <td> -0.001578373</td>\n",
        "    </tr>\n",
        "    <tr>\n",
        "      <th>certified</th>\n",
        "      <td> -0.002559195</td>\n",
        "      <td>-0.0006068271</td>\n",
        "      <td> -0.001238255</td>\n",
        "    </tr>\n",
        "    <tr>\n",
        "      <th>grade</th>\n",
        "      <td> -0.009364893</td>\n",
        "      <td>-0.0007073365</td>\n",
        "      <td> -0.001261321</td>\n",
        "    </tr>\n",
        "    <tr>\n",
        "      <th>nevents</th>\n",
        "      <td>  -0.02746632</td>\n",
        "      <td>    -10.79445</td>\n",
        "      <td>    -23.73898</td>\n",
        "    </tr>\n",
        "    <tr>\n",
        "      <th>ndays_act</th>\n",
        "      <td>  -0.01727125</td>\n",
        "      <td>  -0.09186224</td>\n",
        "      <td>   -0.1523747</td>\n",
        "    </tr>\n",
        "    <tr>\n",
        "      <th>nplay_video</th>\n",
        "      <td>  -0.02928217</td>\n",
        "      <td>    -1.889601</td>\n",
        "      <td>    -1.145045</td>\n",
        "    </tr>\n",
        "    <tr>\n",
        "      <th>nchapters</th>\n",
        "      <td> -0.007348376</td>\n",
        "      <td>  -0.02083899</td>\n",
        "      <td> -0.006698442</td>\n",
        "    </tr>\n",
        "    <tr>\n",
        "      <th>nforum_posts</th>\n",
        "      <td> -0.002614743</td>\n",
        "      <td> -0.007920818</td>\n",
        "      <td>   -0.1088301</td>\n",
        "    </tr>\n",
        "  </tbody>\n",
        "</table>\n",
        "<p>9 rows \u00d7 3 columns</p>\n",
        "</div>"
       ],
       "metadata": {},
       "output_type": "pyout",
       "prompt_number": 20,
       "text": [
        "                   Entropy          Mean            SD\n",
        "viewed        0.0007820853 -0.0008659297  0.0002754981\n",
        "explored      -0.003695128  -0.001120242  -0.001578373\n",
        "certified     -0.002559195 -0.0006068271  -0.001238255\n",
        "grade         -0.009364893 -0.0007073365  -0.001261321\n",
        "nevents        -0.02746632     -10.79445     -23.73898\n",
        "ndays_act      -0.01727125   -0.09186224    -0.1523747\n",
        "nplay_video    -0.02928217     -1.889601     -1.145045\n",
        "nchapters     -0.007348376   -0.02083899  -0.006698442\n",
        "nforum_posts  -0.002614743  -0.007920818    -0.1088301\n",
        "\n",
        "[9 rows x 3 columns]"
       ]
      }
     ],
     "prompt_number": 20
    },
    {
     "cell_type": "heading",
     "level": 4,
     "metadata": {},
     "source": [
      "Establish user-wise k-anonymity"
     ]
    },
    {
     "cell_type": "code",
     "collapsed": false,
     "input": [
      " courseDrops = userKanon2(c, table, userVar, courseVar, k)"
     ],
     "language": "python",
     "metadata": {},
     "outputs": [
      {
       "output_type": "stream",
       "stream": "stdout",
       "text": [
        "generating course list\n",
        "16:18:47.075944\n",
        "creating/overwriting course_combo"
       ]
      },
      {
       "output_type": "stream",
       "stream": "stdout",
       "text": [
        "\n",
        "16:18:48.668443\n",
        "no. of unique users to update: 597675"
       ]
      },
      {
       "output_type": "stream",
       "stream": "stdout",
       "text": [
        "\n",
        "16:18:53.580267\n",
        "DropNum: 1"
       ]
      },
      {
       "output_type": "stream",
       "stream": "stdout",
       "text": [
        "\n",
        "non-anon value: 0.0121102605931\n",
        "7238"
       ]
      },
      {
       "output_type": "stream",
       "stream": "stdout",
       "text": [
        "\n",
        "length of changeVals"
       ]
      },
      {
       "output_type": "stream",
       "stream": "stdout",
       "text": [
        "\n",
        "1388\n",
        "dropping courseName:\n",
        "MITx/3.091x/2012_Fall\n",
        "delCount: 1866"
       ]
      },
      {
       "output_type": "stream",
       "stream": "stdout",
       "text": [
        "\n",
        "generating course list"
       ]
      },
      {
       "output_type": "stream",
       "stream": "stdout",
       "text": [
        "\n",
        "16:24:48.301313\n",
        "creating/overwriting course_combo"
       ]
      },
      {
       "output_type": "stream",
       "stream": "stdout",
       "text": [
        "\n",
        "16:24:49.921080\n",
        "no. of unique users to update: 597675"
       ]
      },
      {
       "output_type": "stream",
       "stream": "stdout",
       "text": [
        "\n",
        "16:25:36.661975\n",
        "DropNum: 1"
       ]
      },
      {
       "output_type": "stream",
       "stream": "stdout",
       "text": [
        "\n",
        "non-anon value: 0.0104120132179\n",
        "6223"
       ]
      },
      {
       "output_type": "stream",
       "stream": "stdout",
       "text": [
        "\n",
        "length of changeVals"
       ]
      },
      {
       "output_type": "stream",
       "stream": "stdout",
       "text": [
        "\n",
        "1349\n",
        "dropping courseName:\n",
        "HarvardX/PH207x/2012_Fall\n",
        "delCount: 1930"
       ]
      },
      {
       "output_type": "stream",
       "stream": "stdout",
       "text": [
        "\n",
        "generating course list"
       ]
      },
      {
       "output_type": "stream",
       "stream": "stdout",
       "text": [
        "\n",
        "16:30:21.286492\n",
        "creating/overwriting course_combo"
       ]
      },
      {
       "output_type": "stream",
       "stream": "stdout",
       "text": [
        "\n",
        "16:30:22.897734\n",
        "no. of unique users to update: 597675"
       ]
      },
      {
       "output_type": "stream",
       "stream": "stdout",
       "text": [
        "\n",
        "16:31:02.276963\n",
        "DropNum: 1"
       ]
      },
      {
       "output_type": "stream",
       "stream": "stdout",
       "text": [
        "\n",
        "non-anon value: 0.00830719036266\n",
        "4965"
       ]
      },
      {
       "output_type": "stream",
       "stream": "stdout",
       "text": [
        "\n",
        "length of changeVals"
       ]
      },
      {
       "output_type": "stream",
       "stream": "stdout",
       "text": [
        "\n",
        "1087\n",
        "dropping courseName:\n",
        "MITx/6.00x/2012_Fall\n",
        "delCount: 1651"
       ]
      },
      {
       "output_type": "stream",
       "stream": "stdout",
       "text": [
        "\n",
        "generating course list"
       ]
      },
      {
       "output_type": "stream",
       "stream": "stdout",
       "text": [
        "\n",
        "16:35:02.903452\n",
        "creating/overwriting course_combo"
       ]
      },
      {
       "output_type": "stream",
       "stream": "stdout",
       "text": [
        "\n",
        "16:35:04.514835\n",
        "no. of unique users to update: 597675"
       ]
      },
      {
       "output_type": "stream",
       "stream": "stdout",
       "text": [
        "\n",
        "16:35:47.293803\n",
        "DropNum: 1"
       ]
      },
      {
       "output_type": "stream",
       "stream": "stdout",
       "text": [
        "\n",
        "non-anon value: 0.00643158907433\n",
        "3844"
       ]
      },
      {
       "output_type": "stream",
       "stream": "stdout",
       "text": [
        "\n",
        "length of changeVals"
       ]
      },
      {
       "output_type": "stream",
       "stream": "stdout",
       "text": [
        "\n",
        "982\n",
        "dropping courseName:\n",
        "MITx/2.01x/2013_Spring\n",
        "delCount: 1546"
       ]
      },
      {
       "output_type": "stream",
       "stream": "stdout",
       "text": [
        "\n",
        "generating course list"
       ]
      },
      {
       "output_type": "stream",
       "stream": "stdout",
       "text": [
        "\n",
        "16:39:09.797357\n",
        "creating/overwriting course_combo"
       ]
      },
      {
       "output_type": "stream",
       "stream": "stdout",
       "text": [
        "\n",
        "16:39:11.411059\n",
        "no. of unique users to update: 597675"
       ]
      },
      {
       "output_type": "stream",
       "stream": "stdout",
       "text": [
        "\n",
        "16:40:06.333301\n",
        "DropNum: 1"
       ]
      },
      {
       "output_type": "stream",
       "stream": "stdout",
       "text": [
        "\n",
        "non-anon value: 0.00447400342996\n",
        "2674"
       ]
      },
      {
       "output_type": "stream",
       "stream": "stdout",
       "text": [
        "\n",
        "length of changeVals"
       ]
      },
      {
       "output_type": "stream",
       "stream": "stdout",
       "text": [
        "\n",
        "694\n",
        "dropping courseName:\n",
        "MITx/6.002x/2012_Fall\n",
        "delCount: 1182"
       ]
      },
      {
       "output_type": "stream",
       "stream": "stdout",
       "text": [
        "\n",
        "generating course list"
       ]
      },
      {
       "output_type": "stream",
       "stream": "stdout",
       "text": [
        "\n",
        "16:43:08.012846\n",
        "creating/overwriting course_combo"
       ]
      },
      {
       "output_type": "stream",
       "stream": "stdout",
       "text": [
        "\n",
        "16:43:09.631904\n",
        "no. of unique users to update: 597675"
       ]
      },
      {
       "output_type": "stream",
       "stream": "stdout",
       "text": [
        "\n",
        "16:43:58.335099\n",
        "DropNum: 1"
       ]
      },
      {
       "output_type": "stream",
       "stream": "stdout",
       "text": [
        "\n",
        "non-anon value: 0.00282929685866\n",
        "1691"
       ]
      },
      {
       "output_type": "stream",
       "stream": "stdout",
       "text": [
        "\n",
        "length of changeVals"
       ]
      },
      {
       "output_type": "stream",
       "stream": "stdout",
       "text": [
        "\n",
        "443\n",
        "dropping courseName:\n",
        "MITx/8.MReV/2013_Summer\n",
        "delCount: 815"
       ]
      },
      {
       "output_type": "stream",
       "stream": "stdout",
       "text": [
        "\n",
        "generating course list"
       ]
      },
      {
       "output_type": "stream",
       "stream": "stdout",
       "text": [
        "\n",
        "16:46:32.839159\n",
        "creating/overwriting course_combo"
       ]
      },
      {
       "output_type": "stream",
       "stream": "stdout",
       "text": [
        "\n",
        "16:46:34.447416\n",
        "no. of unique users to update: 597675"
       ]
      },
      {
       "output_type": "stream",
       "stream": "stdout",
       "text": [
        "\n",
        "16:47:23.745937\n",
        "DropNum: 1"
       ]
      },
      {
       "output_type": "stream",
       "stream": "stdout",
       "text": [
        "\n",
        "non-anon value: 0.00141381185427\n",
        "845"
       ]
      },
      {
       "output_type": "stream",
       "stream": "stdout",
       "text": [
        "\n",
        "length of changeVals"
       ]
      },
      {
       "output_type": "stream",
       "stream": "stdout",
       "text": [
        "\n",
        "237\n",
        "dropping courseName:\n",
        "MITx/3.091x/2013_Spring\n",
        "delCount: 545"
       ]
      },
      {
       "output_type": "stream",
       "stream": "stdout",
       "text": [
        "\n",
        "generating course list"
       ]
      },
      {
       "output_type": "stream",
       "stream": "stdout",
       "text": [
        "\n",
        "16:49:46.736272\n",
        "creating/overwriting course_combo"
       ]
      },
      {
       "output_type": "stream",
       "stream": "stdout",
       "text": [
        "\n",
        "16:49:48.401556\n",
        "no. of unique users to update: 597675"
       ]
      },
      {
       "output_type": "stream",
       "stream": "stdout",
       "text": [
        "\n",
        "16:50:34.829795\n",
        "DropNum: 1"
       ]
      },
      {
       "output_type": "stream",
       "stream": "stdout",
       "text": [
        "\n",
        "non-anon value: 0.000440038482453\n",
        "263"
       ]
      },
      {
       "output_type": "stream",
       "stream": "stdout",
       "text": [
        "\n",
        "length of changeVals"
       ]
      },
      {
       "output_type": "stream",
       "stream": "stdout",
       "text": [
        "\n",
        "91\n",
        "dropping courseName:\n",
        "MITx/6.002x/2013_Spring\n",
        "delCount: 216"
       ]
      },
      {
       "output_type": "stream",
       "stream": "stdout",
       "text": [
        "\n",
        "generating course list"
       ]
      },
      {
       "output_type": "stream",
       "stream": "stdout",
       "text": [
        "\n",
        "16:53:03.879077\n",
        "creating/overwriting course_combo"
       ]
      },
      {
       "output_type": "stream",
       "stream": "stdout",
       "text": [
        "\n",
        "16:53:05.552541\n",
        "no. of unique users to update: 597675"
       ]
      },
      {
       "output_type": "stream",
       "stream": "stdout",
       "text": [
        "\n",
        "16:53:54.867060\n",
        "DropNum: 1"
       ]
      },
      {
       "output_type": "stream",
       "stream": "stdout",
       "text": [
        "\n",
        "non-anon value: 6.69260049358e-05\n",
        "40"
       ]
      },
      {
       "output_type": "stream",
       "stream": "stdout",
       "text": [
        "\n",
        "length of changeVals"
       ]
      },
      {
       "output_type": "stream",
       "stream": "stdout",
       "text": [
        "\n",
        "10\n",
        "dropping courseName:\n",
        "HarvardX/CB22x/2013_Spring\n",
        "delCount: 35\n",
        "generating course list"
       ]
      },
      {
       "output_type": "stream",
       "stream": "stdout",
       "text": [
        "\n",
        "16:56:34.655240\n",
        "creating/overwriting course_combo"
       ]
      },
      {
       "output_type": "stream",
       "stream": "stdout",
       "text": [
        "\n",
        "16:56:36.272375\n",
        "no. of unique users to update: 597675"
       ]
      },
      {
       "output_type": "stream",
       "stream": "stdout",
       "text": [
        "\n",
        "16:57:23.433153\n",
        "DropNum: 1"
       ]
      },
      {
       "output_type": "stream",
       "stream": "stdout",
       "text": [
        "\n",
        "non-anon value: 6.69260049358e-06\n",
        "4"
       ]
      },
      {
       "output_type": "stream",
       "stream": "stdout",
       "text": [
        "\n",
        "no more changes can be made, trying 2 courses at a time"
       ]
      },
      {
       "output_type": "stream",
       "stream": "stdout",
       "text": [
        "\n"
       ]
      }
     ],
     "prompt_number": 35
    },
    {
     "cell_type": "code",
     "collapsed": false,
     "input": [
      "for course in courseDrops.keys():\n",
      "    print \"Dropped \"+str(courseDrops[course])+\" rows for course \"+course"
     ],
     "language": "python",
     "metadata": {},
     "outputs": [
      {
       "output_type": "stream",
       "stream": "stdout",
       "text": [
        "Dropped 216 rows for course MITx/6.002x/2013_Spring\n",
        "Dropped 1182 rows for course MITx/6.002x/2012_Fall\n",
        "Dropped 815 rows for course MITx/8.MReV/2013_Summer\n",
        "Dropped 545 rows for course MITx/3.091x/2013_Spring\n",
        "Dropped 1546 rows for course MITx/2.01x/2013_Spring\n",
        "Dropped 35 rows for course HarvardX/CB22x/2013_Spring\n",
        "Dropped 1866 rows for course MITx/3.091x/2012_Fall\n",
        "Dropped 1651 rows for course MITx/6.00x/2012_Fall\n",
        "Dropped 1930 rows for course HarvardX/PH207x/2012_Fall\n"
       ]
      }
     ],
     "prompt_number": 36
    },
    {
     "cell_type": "code",
     "collapsed": false,
     "input": [
      "c.execute(\"SELECT SUM(Count) FROM \"+table+\" WHERE uniqUserFlag = 'True'\")                                                                                                                \n",
      "qry = c.fetchall()                                                                                                                           \n",
      "print \"Deleted \"+str(qry[0][0])+\" additional records for users with unique combinations of courses.\\n\"                                                                                   \n",
      "c.execute(\"DELETE FROM \"+table+\" WHERE uniqUserFlag = 'True'\")                                                                                                                                   "
     ],
     "language": "python",
     "metadata": {},
     "outputs": [
      {
       "output_type": "stream",
       "stream": "stdout",
       "text": [
        "Deleted 20 additional records for users with unique combinations of courses.\n",
        "\n"
       ]
      },
      {
       "metadata": {},
       "output_type": "pyout",
       "prompt_number": 37,
       "text": [
        "<sqlite3.Cursor at 0x6f96880>"
       ]
      }
     ],
     "prompt_number": 37
    },
    {
     "cell_type": "code",
     "collapsed": false,
     "input": [
      "kkeyUpdate(c, table,varList[:26],'entropy')"
     ],
     "language": "python",
     "metadata": {},
     "outputs": [],
     "prompt_number": 38
    },
    {
     "cell_type": "code",
     "collapsed": false,
     "input": [
      "qry = selUnique(c,table,'entropy')\n",
      "tmpEntropy = shannonEntropy(qry)"
     ],
     "language": "python",
     "metadata": {},
     "outputs": [],
     "prompt_number": 39
    },
    {
     "cell_type": "code",
     "collapsed": false,
     "input": [
      "tmpEntropy"
     ],
     "language": "python",
     "metadata": {},
     "outputs": [
      {
       "metadata": {},
       "output_type": "pyout",
       "prompt_number": 40,
       "text": [
        "19.66585634639841"
       ]
      }
     ],
     "prompt_number": 40
    },
    {
     "cell_type": "code",
     "collapsed": false,
     "input": [
      "entChg = 2**beginEntropy - 2**tmpEntropy"
     ],
     "language": "python",
     "metadata": {},
     "outputs": [],
     "prompt_number": 41
    },
    {
     "cell_type": "code",
     "collapsed": false,
     "input": [
      "entChg\n",
      "#This one after User-K-Anonymity"
     ],
     "language": "python",
     "metadata": {},
     "outputs": [
      {
       "metadata": {},
       "output_type": "pyout",
       "prompt_number": 42,
       "text": [
        "9805.999768247013"
       ]
      }
     ],
     "prompt_number": 42
    },
    {
     "cell_type": "heading",
     "level": 4,
     "metadata": {},
     "source": [
      "Replace country names with continent names"
     ]
    },
    {
     "cell_type": "code",
     "collapsed": false,
     "input": [
      "initContVal = 5000\n",
      "contSwap(c,table,\"final_cc_cname\",\"continent\",initContVal)\n",
      "#outFile.write(\"Inserting continent names for countries with fewer than \"+str(initContVal)+\"\\n\")"
     ],
     "language": "python",
     "metadata": {},
     "outputs": [
      {
       "output_type": "stream",
       "stream": "stdout",
       "text": [
        "countries: 233\n",
        "categories after swap: 34"
       ]
      },
      {
       "output_type": "stream",
       "stream": "stdout",
       "text": [
        "\n"
       ]
      }
     ],
     "prompt_number": 43
    },
    {
     "cell_type": "heading",
     "level": 4,
     "metadata": {},
     "source": [
      "Make gender variable that treats NA and missing as same"
     ]
    },
    {
     "cell_type": "code",
     "collapsed": false,
     "input": [
      "try:\n",
      "    addColumn(c,table,\"gender_DI\")\n",
      "    varIndex(c,table,\"gender_DI\")\n",
      "    simpleUpdate(c,table,\"gender_DI\",\"NULL\")\n",
      "    c.execute(\"UPDATE \"+table+\" SET gender_DI = gender\")\n",
      "    c.execute(\"UPDATE \"+table+\" SET gender_DI = '' WHERE gender_DI = 'NA'\")\n",
      "except:\n",
      "    c.execute(\"UPDATE \"+table+\" SET gender_DI = gender\")\n",
      "    c.execute(\"UPDATE \"+table+\" SET gender_DI = '' WHERE gender_DI = 'NA'\")"
     ],
     "language": "python",
     "metadata": {},
     "outputs": [],
     "prompt_number": 44
    },
    {
     "cell_type": "heading",
     "level": 4,
     "metadata": {},
     "source": [
      "Get k-anonymity reading"
     ]
    },
    {
     "cell_type": "code",
     "collapsed": false,
     "input": [
      "status, value = kAnonWrap(c,table,k)\n",
      "print \"Percent of records that will need to be deleted to be k-anonymous: \"+str(value)+\"\\n\"\n",
      "#outFile.write( \"Percent of records that will need to be deleted to be k-anonymous: \"+str(value)+\"\\n\")"
     ],
     "language": "python",
     "metadata": {},
     "outputs": [
      {
       "output_type": "stream",
       "stream": "stdout",
       "text": [
        "Please choose the QI variables from the list below:\n",
        "0. course_id\n",
        "1. user_id\n",
        "2. username\n",
        "3. registered\n",
        "4. viewed\n",
        "5. explored\n",
        "6. certified\n",
        "7. ip\n",
        "8. cc_by_ip\n",
        "9. cc_address\n",
        "10. LoE\n",
        "11. YoB\n",
        "12. gender\n",
        "13. grade\n",
        "14. start_time\n",
        "15. last_event\n",
        "16. nevents\n",
        "17. modal_ip\n",
        "18. modal_ip_cc\n",
        "19. final_cc\n",
        "20. final_cc_source\n",
        "21. ndays_act\n",
        "22. nplay_video\n",
        "23. nchapters\n",
        "24. nforum_posts\n",
        "25. roles\n",
        "26. kkey\n",
        "27. Count\n",
        "28. start_time_DI\n",
        "29. last_event_DI\n",
        "30. final_cc_cname\n",
        "31. continent\n",
        "32. userid_DI\n",
        "33. entropy\n",
        "34. course_combo\n",
        "35. uniqUserFlag\n",
        "36. final_cc_cname_DI\n",
        "37. gender_DI\n"
       ]
      },
      {
       "name": "stdout",
       "output_type": "stream",
       "stream": "stdout",
       "text": [
        "Enter your choices by number, separated by commas: 0,10,11,37,36\n"
       ]
      },
      {
       "output_type": "stream",
       "stream": "stdout",
       "text": [
        "Percent of records that will need to be deleted to be k-anonymous: 0.182675152803\n",
        "\n"
       ]
      }
     ],
     "prompt_number": 47
    },
    {
     "cell_type": "heading",
     "level": 4,
     "metadata": {},
     "source": [
      "Check k-anonymity for records with some null values"
     ]
    },
    {
     "cell_type": "code",
     "collapsed": false,
     "input": [
      "print \"checking k-anonymity for records with some null values\"\n",
      "print datetime.datetime.now().time()\n",
      "#outFile.write(\"checking k-anonymity for records with some null values\\n\")\n",
      "#outFile.write(str(datetime.datetime.now().time())+\"\\n\")\n",
      "iterKcheck(c,table,k)"
     ],
     "language": "python",
     "metadata": {},
     "outputs": [
      {
       "output_type": "stream",
       "stream": "stdout",
       "text": [
        "checking k-anonymity for records with some null values\n",
        "17:26:20.439152\n",
        "Please choose the QI variables from the list below:"
       ]
      },
      {
       "output_type": "stream",
       "stream": "stdout",
       "text": [
        "\n",
        "0. course_id\n",
        "1. user_id\n",
        "2. username\n",
        "3. registered\n",
        "4. viewed\n",
        "5. explored\n",
        "6. certified\n",
        "7. ip\n",
        "8. cc_by_ip\n",
        "9. cc_address\n",
        "10. LoE\n",
        "11. YoB\n",
        "12. gender\n",
        "13. grade\n",
        "14. start_time\n",
        "15. last_event\n",
        "16. nevents\n",
        "17. modal_ip\n",
        "18. modal_ip_cc\n",
        "19. final_cc\n",
        "20. final_cc_source\n",
        "21. ndays_act\n",
        "22. nplay_video\n",
        "23. nchapters\n",
        "24. nforum_posts\n",
        "25. roles\n",
        "26. kkey\n",
        "27. Count\n",
        "28. start_time_DI\n",
        "29. last_event_DI\n",
        "30. final_cc_cname\n",
        "31. continent\n",
        "32. userid_DI\n",
        "33. entropy\n",
        "34. course_combo\n",
        "35. uniqUserFlag\n",
        "36. final_cc_cname_DI\n",
        "37. gender_DI\n"
       ]
      },
      {
       "name": "stdout",
       "output_type": "stream",
       "stream": "stdout",
       "text": [
        "Enter your choices by number, separated by commas: 0,10,11,37,36,24\n"
       ]
      },
      {
       "output_type": "stream",
       "stream": "stdout",
       "text": [
        "Checking 100011...\n",
        "[(0, u'course_id'), (36, u'final_cc_cname_DI'), (24, u'nforum_posts')]\n",
        "17:35:50.998802\n",
        "rows in qry: 8551, time:"
       ]
      },
      {
       "output_type": "stream",
       "stream": "stdout",
       "text": [
        "\n",
        "17:37:12.703553\n",
        "Checking 100111..."
       ]
      },
      {
       "output_type": "stream",
       "stream": "stdout",
       "text": [
        "\n",
        "[(0, u'course_id'), (37, u'gender_DI'), (36, u'final_cc_cname_DI'), (24, u'nforum_posts')]\n",
        "17:37:16.169235\n",
        "rows in qry: 13200, time:"
       ]
      },
      {
       "output_type": "stream",
       "stream": "stdout",
       "text": [
        "\n",
        "17:37:31.380255\n",
        "Checking 101111..."
       ]
      },
      {
       "output_type": "stream",
       "stream": "stdout",
       "text": [
        "\n",
        "[(0, u'course_id'), (11, u'YoB'), (37, u'gender_DI'), (36, u'final_cc_cname_DI'), (24, u'nforum_posts')]\n",
        "17:37:36.754696\n",
        "rows in qry: 83200, time:"
       ]
      },
      {
       "output_type": "stream",
       "stream": "stdout",
       "text": [
        "\n",
        "17:38:06.756570\n",
        "Checking 110011..."
       ]
      },
      {
       "output_type": "stream",
       "stream": "stdout",
       "text": [
        "\n",
        "[(0, u'course_id'), (10, u'LoE'), (36, u'final_cc_cname_DI'), (24, u'nforum_posts')]\n",
        "17:38:08.993488\n",
        "rows in qry: 22405, time:"
       ]
      },
      {
       "output_type": "stream",
       "stream": "stdout",
       "text": [
        "\n",
        "17:38:27.176008\n",
        "Checking 110111..."
       ]
      },
      {
       "output_type": "stream",
       "stream": "stdout",
       "text": [
        "\n",
        "[(0, u'course_id'), (10, u'LoE'), (37, u'gender_DI'), (36, u'final_cc_cname_DI'), (24, u'nforum_posts')]\n",
        "17:38:28.900569\n",
        "rows in qry: 31875, time:"
       ]
      },
      {
       "output_type": "stream",
       "stream": "stdout",
       "text": [
        "\n",
        "17:38:48.832126\n",
        "Checking 111011..."
       ]
      },
      {
       "output_type": "stream",
       "stream": "stdout",
       "text": [
        "\n",
        "[(0, u'course_id'), (10, u'LoE'), (11, u'YoB'), (36, u'final_cc_cname_DI'), (24, u'nforum_posts')]\n",
        "17:38:50.818793\n",
        "rows in qry: 125337, time:"
       ]
      },
      {
       "output_type": "stream",
       "stream": "stdout",
       "text": [
        "\n",
        "17:39:09.780155\n"
       ]
      }
     ],
     "prompt_number": 48
    },
    {
     "cell_type": "code",
     "collapsed": false,
     "input": [
      "def eduClean(cursor, tableName, loeVar):\n",
      "    try: \n",
      "        addColumn(cursor,tableName,loeVar+\"_DI\")\n",
      "        varIndex(cursor,tableName,loeVar+\"_DI\")\n",
      "    except:\n",
      "        simpleUpdate(cursor,tableName,loeVar+\"_DI\",\"NULL\")\n",
      "    ed_dict = {'':'', 'NA':'NA','a':'Secondary','b':\"Bachelor's\",'el':'Less than Secondary',\n",
      "               'hs':'Secondary','jhs':'Less than Secondary','learn':'','m':\"Master's\",'none':'',\n",
      "               'other':'','p':'Doctorate','p_oth':'Doctorate','p_se':'Doctorate'}\n",
      "    qry = selUnique(cursor,tableName,loeVar)\n",
      "    for row in qry:\n",
      "        if row[0] in ed_dict.keys():\n",
      "            cursor.execute('UPDATE '+tableName+' SET '+loeVar+'_DI = \"'+ed_dict[row[0]]+'\" WHERE '+loeVar+' = \"'+row[0]+'\"')"
     ],
     "language": "python",
     "metadata": {},
     "outputs": [],
     "prompt_number": 21
    },
    {
     "cell_type": "code",
     "collapsed": false,
     "input": [
      "eduClean(c,table,\"LoE\")"
     ],
     "language": "python",
     "metadata": {},
     "outputs": [],
     "prompt_number": 22
    },
    {
     "cell_type": "code",
     "collapsed": false,
     "input": [
      "selUnique(c,table,\"LoE\")"
     ],
     "language": "python",
     "metadata": {},
     "outputs": [
      {
       "metadata": {},
       "output_type": "pyout",
       "prompt_number": 24,
       "text": [
        "[(u'', 35720),\n",
        " (u'NA', 60747),\n",
        " (u'a', 6538),\n",
        " (u'b', 270334),\n",
        " (u'el', 3943),\n",
        " (u'hs', 200816),\n",
        " (u'jhs', 21043),\n",
        " (u'learn', 1),\n",
        " (u'm', 166387),\n",
        " (u'none', 6315),\n",
        " (u'other', 26039),\n",
        " (u'p', 5841),\n",
        " (u'p_oth', 10813),\n",
        " (u'p_se', 17251)]"
       ]
      }
     ],
     "prompt_number": 24
    },
    {
     "cell_type": "code",
     "collapsed": false,
     "input": [
      "selUnique(c,table,\"LoE_DI\")"
     ],
     "language": "python",
     "metadata": {},
     "outputs": [
      {
       "metadata": {},
       "output_type": "pyout",
       "prompt_number": 23,
       "text": [
        "[(u'', 68075),\n",
        " (u\"Bachelor's\", 270334),\n",
        " (u'Doctorate', 33905),\n",
        " (u'Less than Secondary', 24986),\n",
        " (u\"Master's\", 166387),\n",
        " (u'NA', 60747),\n",
        " (u'Secondary', 207354)]"
       ]
      }
     ],
     "prompt_number": 23
    },
    {
     "cell_type": "code",
     "collapsed": false,
     "input": [
      "#change 0 values to text in order to exclude them from the binning procedure\n",
      "c.execute(\"UPDATE source SET nforum_posts = 'zero' WHERE nforum_posts = '0'\")"
     ],
     "language": "python",
     "metadata": {},
     "outputs": [
      {
       "metadata": {},
       "output_type": "pyout",
       "prompt_number": 25,
       "text": [
        "<sqlite3.Cursor at 0x6f80ab0>"
       ]
      }
     ],
     "prompt_number": 25
    },
    {
     "cell_type": "code",
     "collapsed": false,
     "input": [
      "dbClose(c)"
     ],
     "language": "python",
     "metadata": {},
     "outputs": [],
     "prompt_number": 38
    },
    {
     "cell_type": "markdown",
     "metadata": {},
     "source": [
      "START HERE JUN 17 AM: NEED TO RELOAD FUNCTIONS TO TAKE IN NEW TAILFINDER AND DO TAILS ON NFORUM_POSTS AND THEN BIN."
     ]
    },
    {
     "cell_type": "code",
     "collapsed": false,
     "input": [
      "tailFinder(c,table,\"nforum_posts\",5)"
     ],
     "language": "python",
     "metadata": {},
     "outputs": [
      {
       "output_type": "stream",
       "stream": "stdout",
       "text": [
        "non int value: zero, skipping\n",
        "82 3\n",
        "91 4\n",
        "93 4\n",
        "96 2\n",
        "99 4\n",
        "100 2\n",
        "101 4\n",
        "104 3\n",
        "106 2\n",
        "107 3\n",
        "108 2\n",
        "110 1\n",
        "112 1\n",
        "113 4\n",
        "115 3\n",
        "116 3\n",
        "117 4\n",
        "118 3\n",
        "119 4\n",
        "120 3\n",
        "121 4\n",
        "123 3\n",
        "124 1\n",
        "125 4\n",
        "126 1\n",
        "127 1\n",
        "128 4\n",
        "129 2\n",
        "130 2\n",
        "131 3\n",
        "132 4\n",
        "133 3\n",
        "134 2\n",
        "136 4\n",
        "137 2\n",
        "138 3\n",
        "141 3\n",
        "142 2\n",
        "143 4\n",
        "144 4\n",
        "145 3\n",
        "146 4\n",
        "147 2\n",
        "149 3\n",
        "150 1\n",
        "151 1\n",
        "152 2\n",
        "154 1\n",
        "156 3\n",
        "157 2\n",
        "158 4\n",
        "159 3\n",
        "160 2\n",
        "161 1\n",
        "162 1\n",
        "163 4\n",
        "164 4\n",
        "165 2\n",
        "166 3\n",
        "167 2\n",
        "168 1\n",
        "171 2\n",
        "172 4\n",
        "173 2\n",
        "174 1\n",
        "176 4\n",
        "180 2\n",
        "181 2\n",
        "182 3\n",
        "183 1\n",
        "185 1\n",
        "186 2\n",
        "187 3\n",
        "189 2\n",
        "190 1\n",
        "191 2\n",
        "192 1\n",
        "193 3\n",
        "194 3\n",
        "196 2\n",
        "197 1\n",
        "198 2\n",
        "199 2\n",
        "202 1\n",
        "203 1\n",
        "204 1\n",
        "205 1\n",
        "207 2\n",
        "208 1\n",
        "209 1\n",
        "214 3\n",
        "215 1\n",
        "217 3\n",
        "218 2\n",
        "224 1\n",
        "226 2\n",
        "227 1\n",
        "229 1\n",
        "231 1\n",
        "233 1\n",
        "235 1\n",
        "236 1\n",
        "240 1\n",
        "241 1\n",
        "243 1\n",
        "245 1\n",
        "250 1\n",
        "253 2\n",
        "256 1\n",
        "259 1\n",
        "265 2\n",
        "266 2\n",
        "267 1\n",
        "269 1\n",
        "270 1\n",
        "271 1\n",
        "275 1\n",
        "277 1\n",
        "285 2\n",
        "286 1\n",
        "287 1\n",
        "289 1\n",
        "305 2\n",
        "307 1\n",
        "311 1\n",
        "313 1\n",
        "315 1\n",
        "316 1\n",
        "317 1\n",
        "322 2\n",
        "326 1\n",
        "336 1\n",
        "337 1\n",
        "339 2\n",
        "341 1\n",
        "346 2\n",
        "349 2\n",
        "351 1\n",
        "359 1\n",
        "370 2\n",
        "372 1\n",
        "375 1\n",
        "381 1\n",
        "384 2\n",
        "389 1\n",
        "393 1\n",
        "394 1\n",
        "396 1\n",
        "402 1\n",
        "405 1\n",
        "407 1\n",
        "413 1\n",
        "414 1\n",
        "418 1\n",
        "435 2\n",
        "439 1\n",
        "453 1\n",
        "465 1\n",
        "516 1\n",
        "552 1\n",
        "584 1\n",
        "610 1\n",
        "620 1\n",
        "626 1\n",
        "711 1\n",
        "727 1\n",
        "731 1\n",
        "745 1\n",
        "750 1\n",
        "768 1\n",
        "769 1\n",
        "777 1\n",
        "798 1\n",
        "808 1\n",
        "834 1\n",
        "842 1\n",
        "867 1\n",
        "878 1\n",
        "880 1\n",
        "884 1\n",
        "913 1\n",
        "921 1\n",
        "941 1\n",
        "1006 1\n",
        "1039 1\n",
        "1223 1\n",
        "1752 1\n",
        "1880 1\n",
        "1889 1\n",
        "2161 1\n",
        "2684 1\n",
        "2700 1\n",
        "3770 1\n"
       ]
      },
      {
       "name": "stdout",
       "output_type": "stream",
       "stream": "stdout",
       "text": [
        "Would you like to trim the tails? (y/n): y\n"
       ]
      },
      {
       "name": "stdout",
       "output_type": "stream",
       "stream": "stdout",
       "text": [
        "High (h), Low (l), or Both (b)?: h\n"
       ]
      },
      {
       "name": "stdout",
       "output_type": "stream",
       "stream": "stdout",
       "text": [
        "Choose the high tail: 81\n"
       ]
      },
      {
       "output_type": "stream",
       "stream": "stdout",
       "text": [
        "High tail for nforum_posts: 81\n",
        "column nforum_posts_DI already exists, overwriting...\n"
       ]
      }
     ],
     "prompt_number": 15
    },
    {
     "cell_type": "code",
     "collapsed": false,
     "input": [
      "c.execute(\"UPDATE source SET nforum_posts = '0' WHERE nforum_posts = 'zero'\")\n",
      "c.execute(\"UPDATE source SET nforum_posts_DI = 'one' WHERE nforum_posts = '1'\")\n",
      "c.execute(\"UPDATE source SET nforum_posts_DI = 'two' WHERE nforum_posts = '2'\")\n",
      "c.execute(\"UPDATE source SET nforum_posts_DI = 'three' WHERE nforum_posts = '3'\")\n",
      "c.execute(\"UPDATE source SET nforum_posts_DI = 'four' WHERE nforum_posts = '4'\")\n",
      "c.execute(\"UPDATE source SET nforum_posts_DI = 'five' WHERE nforum_posts = '5'\")\n",
      "c.execute(\"UPDATE source SET nforum_posts_DI = 'six' WHERE nforum_posts = '6'\")\n",
      "c.execute(\"UPDATE source SET nforum_posts_DI = 'seven' WHERE nforum_posts = '7'\")\n",
      "c.execute(\"UPDATE source SET nforum_posts_DI = 'eight' WHERE nforum_posts = '8'\")\n",
      "c.execute(\"UPDATE source SET nforum_posts_DI = 'nine' WHERE nforum_posts = '9'\")\n",
      "c.execute(\"UPDATE source SET nforum_posts_DI = 'ten' WHERE nforum_posts = '10'\")"
     ],
     "language": "python",
     "metadata": {},
     "outputs": [
      {
       "metadata": {},
       "output_type": "pyout",
       "prompt_number": 19,
       "text": [
        "<sqlite3.Cursor at 0x69b7ab0>"
       ]
      }
     ],
     "prompt_number": 19
    },
    {
     "cell_type": "code",
     "collapsed": false,
     "input": [
      "numBinner(c,table,\"nforum_posts_DI\")"
     ],
     "language": "python",
     "metadata": {},
     "outputs": [
      {
       "name": "stdout",
       "output_type": "stream",
       "stream": "stdout",
       "text": [
        "Copy into (n)ew variable or (o)verwrite?: o\n"
       ]
      }
     ],
     "prompt_number": 20
    },
    {
     "cell_type": "code",
     "collapsed": false,
     "input": [
      "binAvg(c,table,\"nforum_posts_DI\",\"nforum_posts\")"
     ],
     "language": "python",
     "metadata": {},
     "outputs": [
      {
       "output_type": "stream",
       "stream": "stdout",
       "text": [
        "column nforum_posts_DI_avg already exists, overwriting...\n"
       ]
      }
     ],
     "prompt_number": 96
    },
    {
     "cell_type": "code",
     "collapsed": false,
     "input": [
      "selUnique(c,table,\"nforum_posts_DI_avg\")"
     ],
     "language": "python",
     "metadata": {},
     "outputs": [
      {
       "metadata": {},
       "output_type": "pyout",
       "prompt_number": 97,
       "text": [
        "[(u'0.0', 681249),\n",
        " (u'1.0', 7476),\n",
        " (u'12.56', 163),\n",
        " (u'18.21', 28),\n",
        " (u'2.0', 2366),\n",
        " (u'23.25', 8),\n",
        " (u'264.1', 29),\n",
        " (u'3.0', 904),\n",
        " (u'33.2', 5),\n",
        " (u'4.0', 405),\n",
        " (u'5.0', 218),\n",
        " (u'6.0', 133),\n",
        " (u'7.0', 15),\n",
        " (u'8.0', 25),\n",
        " (u'9.0', 10)]"
       ]
      }
     ],
     "prompt_number": 97
    },
    {
     "cell_type": "code",
     "collapsed": false,
     "input": [
      "tailFinder(c,table,\"YoB\",50)"
     ],
     "language": "python",
     "metadata": {},
     "outputs": [
      {
       "output_type": "stream",
       "stream": "stdout",
       "text": [
        "non int value: , skipping\n",
        "non int value: NA, skipping\n",
        "1895 12\n",
        "1896 7\n",
        "1897 4\n",
        "1898 9\n",
        "1899 1\n",
        "1900 29\n",
        "1901 7\n",
        "1902 4\n",
        "1904 4\n",
        "1905 1\n",
        "1906 9\n",
        "1907 2\n",
        "1908 3\n",
        "1909 1\n",
        "1910 1\n",
        "1911 3\n",
        "1912 5\n",
        "1913 3\n",
        "1914 1\n",
        "1915 4\n",
        "1916 1\n",
        "1917 5\n",
        "1918 4\n",
        "1919 5\n",
        "1920 11\n",
        "1921 7\n",
        "1922 11\n",
        "1923 15\n",
        "1924 19\n",
        "1925 24\n",
        "1926 27\n",
        "1927 28\n",
        "1928 30\n"
       ]
      },
      {
       "name": "stdout",
       "output_type": "stream",
       "stream": "stdout",
       "text": [
        "Would you like to trim the tails? (y/n): y\n"
       ]
      },
      {
       "name": "stdout",
       "output_type": "stream",
       "stream": "stdout",
       "text": [
        "High (h), Low (l), or Both (b)?: b\n"
       ]
      },
      {
       "name": "stdout",
       "output_type": "stream",
       "stream": "stdout",
       "text": [
        "Choose the low tail: 1940\n"
       ]
      },
      {
       "name": "stdout",
       "output_type": "stream",
       "stream": "stdout",
       "text": [
        "Choose the high tail: 2001\n"
       ]
      },
      {
       "output_type": "stream",
       "stream": "stdout",
       "text": [
        "Low tail for YoB: 1940\n",
        "High tail for YoB: 2001\n"
       ]
      }
     ],
     "prompt_number": 67
    },
    {
     "cell_type": "code",
     "collapsed": false,
     "input": [
      "numBinner(c,table,\"YoB_DI\",bw=2)"
     ],
     "language": "python",
     "metadata": {},
     "outputs": [
      {
       "name": "stdout",
       "output_type": "stream",
       "stream": "stdout",
       "text": [
        "Copy into (n)ew variable or (o)verwrite?: o\n"
       ]
      }
     ],
     "prompt_number": 69
    },
    {
     "cell_type": "code",
     "collapsed": false,
     "input": [
      "selUnique(c,table,\"YoB_DI\")"
     ],
     "language": "python",
     "metadata": {},
     "outputs": [
      {
       "metadata": {},
       "output_type": "pyout",
       "prompt_number": 70,
       "text": [
        "[(None, 105872),\n",
        " (u'1941-1942', 861),\n",
        " (u'1943-1944', 1185),\n",
        " (u'1945-1946', 1505),\n",
        " (u'1947-1948', 2070),\n",
        " (u'1949-1950', 2635),\n",
        " (u'1951-1952', 3157),\n",
        " (u'1953-1954', 3703),\n",
        " (u'1955-1956', 4875),\n",
        " (u'1957-1958', 5243),\n",
        " (u'1959-1960', 6532),\n",
        " (u'1961-1962', 7369),\n",
        " (u'1963-1964', 8443),\n",
        " (u'1965-1966', 9489),\n",
        " (u'1967-1968', 10913),\n",
        " (u'1969-1970', 13240),\n",
        " (u'1971-1972', 14825),\n",
        " (u'1973-1974', 17245),\n",
        " (u'1975-1976', 21255),\n",
        " (u'1977-1978', 26436),\n",
        " (u'1979-1980', 34669),\n",
        " (u'1981-1982', 42234),\n",
        " (u'1983-1984', 52413),\n",
        " (u'1985-1986', 66869),\n",
        " (u'1987-1988', 78514),\n",
        " (u'1989-1990', 88012),\n",
        " (u'1991-1992', 86851),\n",
        " (u'1993-1994', 67434),\n",
        " (u'1995-1996', 28670),\n",
        " (u'1997-1998', 10140),\n",
        " (u'1999-2000', 2673),\n",
        " (u'<= 1940', 2295),\n",
        " (u'>= 2001', 4161)]"
       ]
      }
     ],
     "prompt_number": 70
    },
    {
     "cell_type": "code",
     "collapsed": false,
     "input": [
      "kAnonWrap(c,table,k)"
     ],
     "language": "python",
     "metadata": {},
     "outputs": [
      {
       "output_type": "stream",
       "stream": "stdout",
       "text": [
        "Please choose the QI variables from the list below:\n",
        "0. course_id\n",
        "1. user_id\n",
        "2. username\n",
        "3. registered\n",
        "4. viewed\n",
        "5. explored\n",
        "6. certified\n",
        "7. ip\n",
        "8. cc_by_ip\n",
        "9. cc_address\n",
        "10. LoE\n",
        "11. YoB\n",
        "12. gender\n",
        "13. grade\n",
        "14. start_time\n",
        "15. last_event\n",
        "16. nevents\n",
        "17. modal_ip\n",
        "18. modal_ip_cc\n",
        "19. final_cc\n",
        "20. final_cc_source\n",
        "21. ndays_act\n",
        "22. nplay_video\n",
        "23. nchapters\n",
        "24. nforum_posts\n",
        "25. roles\n",
        "26. kkey\n",
        "27. Count\n",
        "28. start_time_DI\n",
        "29. last_event_DI\n",
        "30. final_cc_cname\n",
        "31. continent\n",
        "32. userid_DI\n",
        "33. entropy\n",
        "34. course_combo\n",
        "35. uniqUserFlag\n",
        "36. final_cc_cname_DI\n",
        "37. gender_DI\n",
        "38. course_id_NF\n",
        "39. LoE_NF\n",
        "40. YoB_NF\n",
        "41. gender_DI_NF\n",
        "42. final_cc_cname_DI_NF\n",
        "43. nforum_posts_NF\n",
        "44. nullSum\n",
        "45. kCheckFlag\n",
        "46. nullkkey\n",
        "47. LoE_DI\n",
        "48. nforum_posts_DI\n",
        "49. nforum_posts_DI_avg\n",
        "50. YoB_DI\n"
       ]
      },
      {
       "name": "stdout",
       "output_type": "stream",
       "stream": "stdout",
       "text": [
        "Enter your choices by number, separated by commas: 0,37,36,47,49,50\n"
       ]
      },
      {
       "metadata": {},
       "output_type": "pyout",
       "prompt_number": 71,
       "text": [
        "(False, 0.16681414014147836)"
       ]
      }
     ],
     "prompt_number": 71
    },
    {
     "cell_type": "code",
     "collapsed": false,
     "input": [
      "lDiversity(c,table,\"kkey\",\"grade\")"
     ],
     "language": "python",
     "metadata": {},
     "outputs": [],
     "prompt_number": 81
    },
    {
     "cell_type": "code",
     "collapsed": false,
     "input": [
      "addColumn(c,table,\"incomplete_flag\")"
     ],
     "language": "python",
     "metadata": {},
     "outputs": [],
     "prompt_number": 82
    },
    {
     "cell_type": "code",
     "collapsed": false,
     "input": [
      "varIndex(c,table,\"incomplete_flag\")"
     ],
     "language": "python",
     "metadata": {},
     "outputs": [],
     "prompt_number": 83
    },
    {
     "cell_type": "code",
     "collapsed": false,
     "input": [
      "c.execute(\"SELECT SUM(Count) FROM source WHERE nevents = '' AND nchapters != ''\")\n",
      "qry = c.fetchall()\n",
      "print qry\n",
      "c.execute(\"SELECT SUM(Count) FROM source WHERE nevents = '' AND nforum_posts != '0'\")\n",
      "qry = c.fetchall()\n",
      "print qry\n",
      "c.execute(\"SELECT SUM(Count) FROM source WHERE nevents = '' AND ndays_act != ''\")\n",
      "qry = c.fetchall()\n",
      "print qry"
     ],
     "language": "python",
     "metadata": {},
     "outputs": [
      {
       "output_type": "stream",
       "stream": "stdout",
       "text": [
        "[(74886,)]\n",
        "[(73,)]"
       ]
      },
      {
       "output_type": "stream",
       "stream": "stdout",
       "text": [
        "\n",
        "[(39301,)]"
       ]
      },
      {
       "output_type": "stream",
       "stream": "stdout",
       "text": [
        "\n"
       ]
      }
     ],
     "prompt_number": 84
    },
    {
     "cell_type": "code",
     "collapsed": false,
     "input": [
      "c.execute(\"UPDATE source SET incomplete_flag = '1' WHERE nevents = '' AND nchapters != ''\")"
     ],
     "language": "python",
     "metadata": {},
     "outputs": [
      {
       "metadata": {},
       "output_type": "pyout",
       "prompt_number": 85,
       "text": [
        "<sqlite3.Cursor at 0x69b7ab0>"
       ]
      }
     ],
     "prompt_number": 85
    },
    {
     "cell_type": "code",
     "collapsed": false,
     "input": [
      "c.execute(\"UPDATE source SET incomplete_flag = '1' WHERE nevents = '' AND nforum_posts != '0'\")"
     ],
     "language": "python",
     "metadata": {},
     "outputs": [
      {
       "metadata": {},
       "output_type": "pyout",
       "prompt_number": 86,
       "text": [
        "<sqlite3.Cursor at 0x69b7ab0>"
       ]
      }
     ],
     "prompt_number": 86
    },
    {
     "cell_type": "code",
     "collapsed": false,
     "input": [
      "c.execute(\"UPDATE source SET incomplete_flag = '1' WHERE nevents = '' AND ndays_act != ''\")"
     ],
     "language": "python",
     "metadata": {},
     "outputs": [
      {
       "metadata": {},
       "output_type": "pyout",
       "prompt_number": 87,
       "text": [
        "<sqlite3.Cursor at 0x69b7ab0>"
       ]
      }
     ],
     "prompt_number": 87
    },
    {
     "cell_type": "code",
     "collapsed": false,
     "input": [
      "c.execute(\"SELECT * FROM source WHERE incomplete_flag = '1'\")"
     ],
     "language": "python",
     "metadata": {},
     "outputs": [
      {
       "metadata": {},
       "output_type": "pyout",
       "prompt_number": 88,
       "text": [
        "<sqlite3.Cursor at 0x69b7ab0>"
       ]
      }
     ],
     "prompt_number": 88
    },
    {
     "cell_type": "code",
     "collapsed": false,
     "input": [
      "qry = c.fetchall()"
     ],
     "language": "python",
     "metadata": {},
     "outputs": [],
     "prompt_number": 89
    },
    {
     "cell_type": "code",
     "collapsed": false,
     "input": [
      "len(qry)"
     ],
     "language": "python",
     "metadata": {},
     "outputs": [
      {
       "metadata": {},
       "output_type": "pyout",
       "prompt_number": 90,
       "text": [
        "104854"
       ]
      }
     ],
     "prompt_number": 90
    },
    {
     "cell_type": "code",
     "collapsed": false,
     "input": [
      "c.execute(\"Pragma table_info(source)\")\n",
      "varList = c.fetchall()\n",
      "varList"
     ],
     "language": "python",
     "metadata": {},
     "outputs": [
      {
       "metadata": {},
       "output_type": "pyout",
       "prompt_number": 75,
       "text": [
        "[(0, u'course_id', u'text', 0, None, 0),\n",
        " (1, u'user_id', u'text', 0, None, 0),\n",
        " (2, u'username', u'text', 0, None, 0),\n",
        " (3, u'registered', u'text', 0, None, 0),\n",
        " (4, u'viewed', u'text', 0, None, 0),\n",
        " (5, u'explored', u'text', 0, None, 0),\n",
        " (6, u'certified', u'text', 0, None, 0),\n",
        " (7, u'ip', u'text', 0, None, 0),\n",
        " (8, u'cc_by_ip', u'text', 0, None, 0),\n",
        " (9, u'cc_address', u'text', 0, None, 0),\n",
        " (10, u'LoE', u'text', 0, None, 0),\n",
        " (11, u'YoB', u'text', 0, None, 0),\n",
        " (12, u'gender', u'text', 0, None, 0),\n",
        " (13, u'grade', u'text', 0, None, 0),\n",
        " (14, u'start_time', u'text', 0, None, 0),\n",
        " (15, u'last_event', u'text', 0, None, 0),\n",
        " (16, u'nevents', u'text', 0, None, 0),\n",
        " (17, u'modal_ip', u'text', 0, None, 0),\n",
        " (18, u'modal_ip_cc', u'text', 0, None, 0),\n",
        " (19, u'final_cc', u'text', 0, None, 0),\n",
        " (20, u'final_cc_source', u'text', 0, None, 0),\n",
        " (21, u'ndays_act', u'text', 0, None, 0),\n",
        " (22, u'nplay_video', u'text', 0, None, 0),\n",
        " (23, u'nchapters', u'text', 0, None, 0),\n",
        " (24, u'nforum_posts', u'text', 0, None, 0),\n",
        " (25, u'roles', u'text', 0, None, 0),\n",
        " (26, u'kkey', u'text', 0, None, 0),\n",
        " (27, u'Count', u'integer', 0, None, 0),\n",
        " (28, u'start_time_DI', u'text', 0, None, 0),\n",
        " (29, u'last_event_DI', u'text', 0, None, 0),\n",
        " (30, u'final_cc_cname', u'text', 0, None, 0),\n",
        " (31, u'continent', u'text', 0, None, 0),\n",
        " (32, u'userid_DI', u'text', 0, None, 0),\n",
        " (33, u'entropy', u'text', 0, None, 0),\n",
        " (34, u'course_combo', u'text', 0, None, 0),\n",
        " (35, u'uniqUserFlag', u'text', 0, None, 0),\n",
        " (36, u'final_cc_cname_DI', u'text', 0, None, 0),\n",
        " (37, u'gender_DI', u'text', 0, None, 0),\n",
        " (38, u'course_id_NF', u'text', 0, None, 0),\n",
        " (39, u'LoE_NF', u'text', 0, None, 0),\n",
        " (40, u'YoB_NF', u'text', 0, None, 0),\n",
        " (41, u'gender_DI_NF', u'text', 0, None, 0),\n",
        " (42, u'final_cc_cname_DI_NF', u'text', 0, None, 0),\n",
        " (43, u'nforum_posts_NF', u'text', 0, None, 0),\n",
        " (44, u'nullSum', u'text', 0, None, 0),\n",
        " (45, u'kCheckFlag', u'text', 0, None, 0),\n",
        " (46, u'nullkkey', u'text', 0, None, 0),\n",
        " (47, u'LoE_DI', u'text', 0, None, 0),\n",
        " (48, u'nforum_posts_DI', u'text', 0, None, 0),\n",
        " (49, u'nforum_posts_DI_avg', u'text', 0, None, 0),\n",
        " (50, u'YoB_DI', u'text', 0, None, 0)]"
       ]
      }
     ],
     "prompt_number": 75
    },
    {
     "cell_type": "code",
     "collapsed": false,
     "input": [
      "kkeyList = []\n",
      "kkeyList.append(varList[0])\n",
      "kkeyList.append(varList[36])\n",
      "kkeyList.append(varList[37])\n",
      "kkeyList.append(varList[47])\n",
      "kkeyList.append(varList[49])\n",
      "kkeyList.append(varList[50])\n",
      "kkeyList"
     ],
     "language": "python",
     "metadata": {},
     "outputs": [
      {
       "metadata": {},
       "output_type": "pyout",
       "prompt_number": 76,
       "text": [
        "[(0, u'course_id', u'text', 0, None, 0),\n",
        " (36, u'final_cc_cname_DI', u'text', 0, None, 0),\n",
        " (37, u'gender_DI', u'text', 0, None, 0),\n",
        " (47, u'LoE_DI', u'text', 0, None, 0),\n",
        " (49, u'nforum_posts_DI_avg', u'text', 0, None, 0),\n",
        " (50, u'YoB_DI', u'text', 0, None, 0)]"
       ]
      }
     ],
     "prompt_number": 76
    },
    {
     "cell_type": "code",
     "collapsed": false,
     "input": [
      "kkeyUpdate(c,table,kkeyList)"
     ],
     "language": "python",
     "metadata": {},
     "outputs": [],
     "prompt_number": 77
    },
    {
     "cell_type": "code",
     "collapsed": false,
     "input": [
      "c.execute(\"SELECT SUM(Count), kkey FROM source GROUP BY kkey\")\n",
      "qry2 = c.fetchall()\n",
      "#lessThanK = []\n",
      "#badCount = 0\n",
      "c.execute(\"UPDATE \"+table+\" SET kCheckFlag = 'False'\")\n",
      "for row in qry2:\n",
      "    if row[0] >= 5:\n",
      "        c.execute('UPDATE '+table+' SET kCheckFlag = \"True\" WHERE kkey = \"'+row[1]+'\"')"
     ],
     "language": "python",
     "metadata": {},
     "outputs": [],
     "prompt_number": 78
    },
    {
     "cell_type": "code",
     "collapsed": false,
     "input": [
      "selUnique(c,table,\"kCheckFlag\")"
     ],
     "language": "python",
     "metadata": {},
     "outputs": [
      {
       "metadata": {},
       "output_type": "pyout",
       "prompt_number": 91,
       "text": [
        "[(u'True', 693034)]"
       ]
      }
     ],
     "prompt_number": 91
    },
    {
     "cell_type": "code",
     "collapsed": false,
     "input": [
      "c.execute(\"DELETE FROM source WHERE kCheckFlag = 'False'\")"
     ],
     "language": "python",
     "metadata": {},
     "outputs": [
      {
       "metadata": {},
       "output_type": "pyout",
       "prompt_number": 80,
       "text": [
        "<sqlite3.Cursor at 0x69b7ab0>"
       ]
      }
     ],
     "prompt_number": 80
    },
    {
     "cell_type": "code",
     "collapsed": false,
     "input": [
      "csvExport(c,table,\"HMXPC13_DI_binned_061714.csv\")"
     ],
     "language": "python",
     "metadata": {},
     "outputs": [
      {
       "output_type": "stream",
       "stream": "stdout",
       "text": [
        "Please choose the QI variables from the list below:\n",
        "0. course_id\n",
        "1. user_id\n",
        "2. username\n",
        "3. registered\n",
        "4. viewed\n",
        "5. explored\n",
        "6. certified\n",
        "7. ip\n",
        "8. cc_by_ip\n",
        "9. cc_address\n",
        "10. LoE\n",
        "11. YoB\n",
        "12. gender\n",
        "13. grade\n",
        "14. start_time\n",
        "15. last_event\n",
        "16. nevents\n",
        "17. modal_ip\n",
        "18. modal_ip_cc\n",
        "19. final_cc\n",
        "20. final_cc_source\n",
        "21. ndays_act\n",
        "22. nplay_video\n",
        "23. nchapters\n",
        "24. nforum_posts\n",
        "25. roles\n",
        "26. kkey\n",
        "27. Count\n",
        "28. start_time_DI\n",
        "29. last_event_DI\n",
        "30. final_cc_cname\n",
        "31. continent\n",
        "32. userid_DI\n",
        "33. entropy\n",
        "34. course_combo\n",
        "35. uniqUserFlag\n",
        "36. final_cc_cname_DI\n",
        "37. gender_DI\n",
        "38. course_id_NF\n",
        "39. LoE_NF\n",
        "40. YoB_NF\n",
        "41. gender_DI_NF\n",
        "42. final_cc_cname_DI_NF\n",
        "43. nforum_posts_NF\n",
        "44. nullSum\n",
        "45. kCheckFlag\n",
        "46. nullkkey\n",
        "47. LoE_DI\n",
        "48. nforum_posts_DI\n",
        "49. nforum_posts_DI_avg\n",
        "50. YoB_DI\n",
        "51. incomplete_flag\n"
       ]
      },
      {
       "name": "stdout",
       "output_type": "stream",
       "stream": "stdout",
       "text": [
        "Enter your choices by number, separated by commas: 0,32,3,4,5,6,36,47,50,12,13,28,29,16,21,22,23,48,49,51\n"
       ]
      }
     ],
     "prompt_number": 98
    },
    {
     "cell_type": "code",
     "collapsed": false,
     "input": [
      "selUnique(c,table,\"YoB_DI\")"
     ],
     "language": "python",
     "metadata": {},
     "outputs": [
      {
       "metadata": {},
       "output_type": "pyout",
       "prompt_number": 95,
       "text": [
        "[(None, 96728),\n",
        " (u'1941-1942', 345),\n",
        " (u'1943-1944', 597),\n",
        " (u'1945-1946', 723),\n",
        " (u'1947-1948', 1042),\n",
        " (u'1949-1950', 1372),\n",
        " (u'1951-1952', 1610),\n",
        " (u'1953-1954', 1908),\n",
        " (u'1955-1956', 2609),\n",
        " (u'1957-1958', 2804),\n",
        " (u'1959-1960', 3723),\n",
        " (u'1961-1962', 4175),\n",
        " (u'1963-1964', 4988),\n",
        " (u'1965-1966', 5750),\n",
        " (u'1967-1968', 6909),\n",
        " (u'1969-1970', 8838),\n",
        " (u'1971-1972', 10063),\n",
        " (u'1973-1974', 12289),\n",
        " (u'1975-1976', 15632),\n",
        " (u'1977-1978', 20209),\n",
        " (u'1979-1980', 27974),\n",
        " (u'1981-1982', 34913),\n",
        " (u'1983-1984', 44585),\n",
        " (u'1985-1986', 58399),\n",
        " (u'1987-1988', 69914),\n",
        " (u'1989-1990', 79516),\n",
        " (u'1991-1992', 79065),\n",
        " (u'1993-1994', 61117),\n",
        " (u'1995-1996', 23664),\n",
        " (u'1997-1998', 6859),\n",
        " (u'1999-2000', 1519),\n",
        " (u'<= 1940', 1255),\n",
        " (u'>= 2001', 1940)]"
       ]
      }
     ],
     "prompt_number": 95
    },
    {
     "cell_type": "heading",
     "level": 1,
     "metadata": {},
     "source": [
      "Stats on Original File"
     ]
    },
    {
     "cell_type": "code",
     "collapsed": false,
     "input": [
      "dbClose(c)\n",
      "db = 'kaPC_1-17-4-17-14-orig.db'\n",
      "c = dbOpen(db)"
     ],
     "language": "python",
     "metadata": {},
     "outputs": [],
     "prompt_number": 60
    },
    {
     "cell_type": "code",
     "collapsed": false,
     "input": [
      "c.execute(\"Pragma table_info(source)\")\n",
      "c.fetchall()"
     ],
     "language": "python",
     "metadata": {},
     "outputs": [
      {
       "metadata": {},
       "output_type": "pyout",
       "prompt_number": 19,
       "text": [
        "[(0, u'course_id', u'text', 0, None, 0),\n",
        " (1, u'user_id', u'text', 0, None, 0),\n",
        " (2, u'username', u'text', 0, None, 0),\n",
        " (3, u'registered', u'text', 0, None, 0),\n",
        " (4, u'viewed', u'text', 0, None, 0),\n",
        " (5, u'explored', u'text', 0, None, 0),\n",
        " (6, u'certified', u'text', 0, None, 0),\n",
        " (7, u'ip', u'text', 0, None, 0),\n",
        " (8, u'cc_by_ip', u'text', 0, None, 0),\n",
        " (9, u'cc_address', u'text', 0, None, 0),\n",
        " (10, u'LoE', u'text', 0, None, 0),\n",
        " (11, u'YoB', u'text', 0, None, 0),\n",
        " (12, u'gender', u'text', 0, None, 0),\n",
        " (13, u'grade', u'text', 0, None, 0),\n",
        " (14, u'start_time', u'text', 0, None, 0),\n",
        " (15, u'last_event', u'text', 0, None, 0),\n",
        " (16, u'nevents', u'text', 0, None, 0),\n",
        " (17, u'modal_ip', u'text', 0, None, 0),\n",
        " (18, u'modal_ip_cc', u'text', 0, None, 0),\n",
        " (19, u'final_cc', u'text', 0, None, 0),\n",
        " (20, u'final_cc_source', u'text', 0, None, 0),\n",
        " (21, u'ndays_act', u'text', 0, None, 0),\n",
        " (22, u'nplay_video', u'text', 0, None, 0),\n",
        " (23, u'nchapters', u'text', 0, None, 0),\n",
        " (24, u'nforum_posts', u'text', 0, None, 0),\n",
        " (25, u'roles', u'text', 0, None, 0),\n",
        " (26, u'kkey', u'text', 0, None, 0),\n",
        " (27, u'Count', u'integer', 0, None, 0)]"
       ]
      }
     ],
     "prompt_number": 19
    },
    {
     "cell_type": "code",
     "collapsed": false,
     "input": [
      "c.execute(\"UPDATE source SET Count = 1\")"
     ],
     "language": "python",
     "metadata": {},
     "outputs": [
      {
       "metadata": {},
       "output_type": "pyout",
       "prompt_number": 23,
       "text": [
        "<sqlite3.Cursor at 0x5457030>"
       ]
      }
     ],
     "prompt_number": 23
    },
    {
     "cell_type": "code",
     "collapsed": false,
     "input": [
      "c.execute(\"SELECT SUM(Count) FROM source\")\n",
      "total = c.fetchall()[0][0]\n",
      "total"
     ],
     "language": "python",
     "metadata": {},
     "outputs": [
      {
       "metadata": {},
       "output_type": "pyout",
       "prompt_number": 46,
       "text": [
        "841687"
       ]
      }
     ],
     "prompt_number": 46
    },
    {
     "cell_type": "code",
     "collapsed": false,
     "input": [
      "view_qry = selUnique(c,table,\"viewed\")\n",
      "view_dic = {}\n",
      "for row in view_qry:\n",
      "    view_dic[row[0]] = float(row[1])/float(total)\n",
      "view_dic"
     ],
     "language": "python",
     "metadata": {},
     "outputs": [
      {
       "metadata": {},
       "output_type": "pyout",
       "prompt_number": 31,
       "text": [
        "{u'0': 0.3479476337403334, u'1': 0.6520523662596666}"
       ]
      }
     ],
     "prompt_number": 31
    },
    {
     "cell_type": "code",
     "collapsed": false,
     "input": [
      "exp_qry = selUnique(c,table,\"explored\")\n",
      "exp_dic = {}\n",
      "for row in exp_qry:\n",
      "    exp_dic[row[0]] = float(row[1])/float(total)\n",
      "exp_dic"
     ],
     "language": "python",
     "metadata": {},
     "outputs": [
      {
       "metadata": {},
       "output_type": "pyout",
       "prompt_number": 32,
       "text": [
        "{u'0': 0.9071471936717569, u'1': 0.09285280632824316}"
       ]
      }
     ],
     "prompt_number": 32
    },
    {
     "cell_type": "code",
     "collapsed": false,
     "input": [
      "cert_qry = selUnique(c,table,\"certified\")\n",
      "cert_dic = {}\n",
      "for row in cert_qry:\n",
      "    cert_dic[row[0]] = float(row[1])/float(total)\n",
      "cert_dic"
     ],
     "language": "python",
     "metadata": {},
     "outputs": [
      {
       "metadata": {},
       "output_type": "pyout",
       "prompt_number": 30,
       "text": [
        "{u'0': 0.9486792596297674, u'1': 0.05132074037023264}"
       ]
      }
     ],
     "prompt_number": 30
    },
    {
     "cell_type": "code",
     "collapsed": false,
     "input": [
      "gen_qry = selUnique(c,table,\"gender\")\n",
      "gen_dic = {}\n",
      "gen_total = total\n",
      "for row in gen_qry:\n",
      "    if row[0] == '' or row[0] == 'NA' or row[0] == 'o':\n",
      "        gen_total -= row[1]\n",
      "    else:\n",
      "        gen_dic[row[0]] = float(row[1])/float(gen_total)\n",
      "gen_dic"
     ],
     "language": "python",
     "metadata": {},
     "outputs": [
      {
       "metadata": {},
       "output_type": "pyout",
       "prompt_number": 47,
       "text": [
        "{u'f': 0.2864151459340341, u'm': 0.7115540828554654}"
       ]
      }
     ],
     "prompt_number": 47
    },
    {
     "cell_type": "code",
     "collapsed": false,
     "input": [
      "age_qry = selUnique(c,table,\"YoB\")\n",
      "num = 0\n",
      "denom = 0\n",
      "for row in age_qry:\n",
      "    try: age = 2013 - int(row[0])\n",
      "    except: continue\n",
      "    num += age * row[1]\n",
      "    denom += row[1]\n",
      "avg_age = float(num)/float(denom)\n",
      "avg_age"
     ],
     "language": "python",
     "metadata": {},
     "outputs": [
      {
       "metadata": {},
       "output_type": "pyout",
       "prompt_number": 61,
       "text": [
        "29.28250309241192"
       ]
      }
     ],
     "prompt_number": 61
    },
    {
     "cell_type": "heading",
     "level": 2,
     "metadata": {},
     "source": [
      "Stats on De-identified file"
     ]
    },
    {
     "cell_type": "code",
     "collapsed": false,
     "input": [
      "dbClose(c)\n",
      "db = 'kaPC_1-17-4-17-14-3.db'\n",
      "c = dbOpen(db)"
     ],
     "language": "python",
     "metadata": {},
     "outputs": [],
     "prompt_number": 62
    },
    {
     "cell_type": "code",
     "collapsed": false,
     "input": [
      "c.execute(\"SELECT SUM(Count) FROM source\")\n",
      "total = c.fetchall()[0][0]\n",
      "total"
     ],
     "language": "python",
     "metadata": {},
     "outputs": [
      {
       "metadata": {},
       "output_type": "pyout",
       "prompt_number": 49,
       "text": [
        "641138"
       ]
      }
     ],
     "prompt_number": 49
    },
    {
     "cell_type": "code",
     "collapsed": false,
     "input": [
      "view_qry = selUnique(c,table,\"viewed\")\n",
      "view_dic = {}\n",
      "for row in view_qry:\n",
      "    view_dic[row[0]] = float(row[1])/float(total)\n",
      "view_dic"
     ],
     "language": "python",
     "metadata": {},
     "outputs": [
      {
       "metadata": {},
       "output_type": "pyout",
       "prompt_number": 36,
       "text": [
        "{u'0': 0.3757007071800455, u'1': 0.6242992928199546}"
       ]
      }
     ],
     "prompt_number": 36
    },
    {
     "cell_type": "code",
     "collapsed": false,
     "input": [
      "exp_qry = selUnique(c,table,\"explored\")\n",
      "exp_dic = {}\n",
      "for row in exp_qry:\n",
      "    exp_dic[row[0]] = float(row[1])/float(total)\n",
      "exp_dic"
     ],
     "language": "python",
     "metadata": {},
     "outputs": [
      {
       "metadata": {},
       "output_type": "pyout",
       "prompt_number": 37,
       "text": [
        "{u'0': 0.9381006897111074, u'1': 0.06189931028889256}"
       ]
      }
     ],
     "prompt_number": 37
    },
    {
     "cell_type": "code",
     "collapsed": false,
     "input": [
      "cert_qry = selUnique(c,table,\"certified\")\n",
      "cert_dic = {}\n",
      "for row in cert_qry:\n",
      "    cert_dic[row[0]] = float(row[1])/float(total)\n",
      "cert_dic"
     ],
     "language": "python",
     "metadata": {},
     "outputs": [
      {
       "metadata": {},
       "output_type": "pyout",
       "prompt_number": 38,
       "text": [
        "{u'0': 0.9724131154291276, u'1': 0.027586884570872418}"
       ]
      }
     ],
     "prompt_number": 38
    },
    {
     "cell_type": "code",
     "collapsed": false,
     "input": [
      "gen_qry = selUnique(c,table,\"gender\")\n",
      "gen_dic = {}\n",
      "gen_total = total\n",
      "for row in gen_qry:\n",
      "    if row[0] == '' or row[0] == 'NA' or row[0] == 'o':\n",
      "        gen_total -= row[1]\n",
      "    else:\n",
      "        gen_dic[row[0]] = float(row[1])/float(gen_total)\n",
      "gen_dic"
     ],
     "language": "python",
     "metadata": {},
     "outputs": [
      {
       "metadata": {},
       "output_type": "pyout",
       "prompt_number": 50,
       "text": [
        "{u'f': 0.2575983345720615, u'm': 0.7423709978857436}"
       ]
      }
     ],
     "prompt_number": 50
    },
    {
     "cell_type": "code",
     "collapsed": false,
     "input": [
      "age_qry = selUnique(c,table,\"YoB\")\n",
      "num = 0\n",
      "denom = 0\n",
      "for row in age_qry:\n",
      "    try: age = 2013 - int(row[0])\n",
      "    except: continue\n",
      "    num += age * row[1]\n",
      "    denom += row[1]\n",
      "avg_age = float(num)/float(denom)\n",
      "avg_age"
     ],
     "language": "python",
     "metadata": {},
     "outputs": [
      {
       "metadata": {},
       "output_type": "pyout",
       "prompt_number": 64,
       "text": [
        "27.74672058442739"
       ]
      }
     ],
     "prompt_number": 64
    },
    {
     "cell_type": "code",
     "collapsed": false,
     "input": [
      "c.execute(\"Pragma database_list\")\n",
      "c.fetchall()"
     ],
     "language": "python",
     "metadata": {},
     "outputs": [
      {
       "metadata": {},
       "output_type": "pyout",
       "prompt_number": 59,
       "text": [
        "[(0, u'main', u'/home/jdaries/person_course/kaPC_1-17-4-17-14-3.db')]"
       ]
      }
     ],
     "prompt_number": 59
    },
    {
     "cell_type": "code",
     "collapsed": false,
     "input": [
      "selUnique(c,table,\"YoB\")"
     ],
     "language": "python",
     "metadata": {},
     "outputs": [
      {
       "metadata": {},
       "output_type": "pyout",
       "prompt_number": 14,
       "text": [
        "[(u'', 38473),\n",
        " (u'1931', 7),\n",
        " (u'1934', 5),\n",
        " (u'1935', 36),\n",
        " (u'1936', 43),\n",
        " (u'1937', 64),\n",
        " (u'1938', 74),\n",
        " (u'1939', 86),\n",
        " (u'1940', 92),\n",
        " (u'1941', 96),\n",
        " (u'1942', 196),\n",
        " (u'1943', 223),\n",
        " (u'1944', 221),\n",
        " (u'1945', 216),\n",
        " (u'1946', 331),\n",
        " (u'1947', 460),\n",
        " (u'1948', 365),\n",
        " (u'1949', 500),\n",
        " (u'1950', 656),\n",
        " (u'1951', 667),\n",
        " (u'1952', 678),\n",
        " (u'1953', 792),\n",
        " (u'1954', 865),\n",
        " (u'1955', 1036),\n",
        " (u'1956', 1195),\n",
        " (u'1957', 1116),\n",
        " (u'1958', 1224),\n",
        " (u'1959', 1323),\n",
        " (u'1960', 1685),\n",
        " (u'1961', 1651),\n",
        " (u'1962', 1756),\n",
        " (u'1963', 1939),\n",
        " (u'1964', 2073),\n",
        " (u'1965', 2234),\n",
        " (u'1966', 2408),\n",
        " (u'1967', 2669),\n",
        " (u'1968', 3010),\n",
        " (u'1969', 3296),\n",
        " (u'1970', 4075),\n",
        " (u'1971', 3878),\n",
        " (u'1972', 4493),\n",
        " (u'1973', 4740),\n",
        " (u'1974', 5596),\n",
        " (u'1975', 6174),\n",
        " (u'1976', 7131),\n",
        " (u'1977', 8312),\n",
        " (u'1978', 9383),\n",
        " (u'1979', 10954),\n",
        " (u'1980', 13806),\n",
        " (u'1981', 14477),\n",
        " (u'1982', 16867),\n",
        " (u'1983', 18869),\n",
        " (u'1984', 22138),\n",
        " (u'1985', 25539),\n",
        " (u'1986', 28725),\n",
        " (u'1987', 31313),\n",
        " (u'1988', 34436),\n",
        " (u'1989', 36831),\n",
        " (u'1990', 38524),\n",
        " (u'1991', 37544),\n",
        " (u'1992', 37846),\n",
        " (u'1993', 33999),\n",
        " (u'1994', 23921),\n",
        " (u'1995', 13806),\n",
        " (u'1996', 7754),\n",
        " (u'1997', 4082),\n",
        " (u'1998', 1935),\n",
        " (u'1999', 952),\n",
        " (u'2000', 340),\n",
        " (u'2001', 142),\n",
        " (u'2002', 45),\n",
        " (u'2003', 10),\n",
        " (u'2007', 6),\n",
        " (u'2008', 10),\n",
        " (u'2009', 8),\n",
        " (u'2010', 17),\n",
        " (u'2011', 34),\n",
        " (u'2012', 472),\n",
        " (u'2013', 61),\n",
        " (u'NA', 58132)]"
       ]
      }
     ],
     "prompt_number": 14
    },
    {
     "cell_type": "code",
     "collapsed": false,
     "input": [],
     "language": "python",
     "metadata": {},
     "outputs": []
    },
    {
     "cell_type": "code",
     "collapsed": false,
     "input": [
      "uMatrix - preUmatrix\n",
      "#This one taken after K-Anonymous"
     ],
     "language": "python",
     "metadata": {},
     "outputs": [
      {
       "html": [
        "<div style=\"max-height:1000px;max-width:1500px;overflow:auto;\">\n",
        "<table border=\"1\" class=\"dataframe\">\n",
        "  <thead>\n",
        "    <tr style=\"text-align: right;\">\n",
        "      <th></th>\n",
        "      <th>Entropy</th>\n",
        "      <th>Mean</th>\n",
        "      <th>SD</th>\n",
        "    </tr>\n",
        "  </thead>\n",
        "  <tbody>\n",
        "    <tr>\n",
        "      <th>viewed</th>\n",
        "      <td> 0.01909225</td>\n",
        "      <td>-0.02289687</td>\n",
        "      <td> 0.006710045</td>\n",
        "    </tr>\n",
        "    <tr>\n",
        "      <th>explored</th>\n",
        "      <td>-0.09574566</td>\n",
        "      <td>-0.02701568</td>\n",
        "      <td>  -0.0422402</td>\n",
        "    </tr>\n",
        "    <tr>\n",
        "      <th>certified</th>\n",
        "      <td>-0.09396242</td>\n",
        "      <td>-0.02059491</td>\n",
        "      <td> -0.04807742</td>\n",
        "    </tr>\n",
        "    <tr>\n",
        "      <th>grade</th>\n",
        "      <td> -0.3213216</td>\n",
        "      <td>-0.02133466</td>\n",
        "      <td> -0.04029402</td>\n",
        "    </tr>\n",
        "    <tr>\n",
        "      <th>nevents</th>\n",
        "      <td> -0.5807079</td>\n",
        "      <td>  -301.1223</td>\n",
        "      <td>   -750.7629</td>\n",
        "    </tr>\n",
        "    <tr>\n",
        "      <th>ndays_act</th>\n",
        "      <td> -0.3182584</td>\n",
        "      <td>  -2.207401</td>\n",
        "      <td>    -4.19466</td>\n",
        "    </tr>\n",
        "    <tr>\n",
        "      <th>nplay_video</th>\n",
        "      <td> -0.4368301</td>\n",
        "      <td>  -70.48966</td>\n",
        "      <td>    -131.322</td>\n",
        "    </tr>\n",
        "    <tr>\n",
        "      <th>nchapters</th>\n",
        "      <td> -0.2104416</td>\n",
        "      <td> -0.7223014</td>\n",
        "      <td>  -0.9418463</td>\n",
        "    </tr>\n",
        "    <tr>\n",
        "      <th>nforum_posts</th>\n",
        "      <td> -0.4701353</td>\n",
        "      <td> -0.5110052</td>\n",
        "      <td>   -9.606787</td>\n",
        "    </tr>\n",
        "  </tbody>\n",
        "</table>\n",
        "<p>9 rows \u00d7 3 columns</p>\n",
        "</div>"
       ],
       "metadata": {},
       "output_type": "pyout",
       "prompt_number": 65,
       "text": [
        "                 Entropy        Mean           SD\n",
        "viewed        0.01909225 -0.02289687  0.006710045\n",
        "explored     -0.09574566 -0.02701568   -0.0422402\n",
        "certified    -0.09396242 -0.02059491  -0.04807742\n",
        "grade         -0.3213216 -0.02133466  -0.04029402\n",
        "nevents       -0.5807079   -301.1223    -750.7629\n",
        "ndays_act     -0.3182584   -2.207401     -4.19466\n",
        "nplay_video   -0.4368301   -70.48966     -131.322\n",
        "nchapters     -0.2104416  -0.7223014   -0.9418463\n",
        "nforum_posts  -0.4701353  -0.5110052    -9.606787\n",
        "\n",
        "[9 rows x 3 columns]"
       ]
      }
     ],
     "prompt_number": 65
    }
   ],
   "metadata": {}
  }
 ]
}